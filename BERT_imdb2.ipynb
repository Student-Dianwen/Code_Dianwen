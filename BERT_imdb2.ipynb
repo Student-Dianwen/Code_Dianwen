{
 "cells": [
  {
   "cell_type": "code",
   "execution_count": 1,
   "metadata": {
    "colab": {
     "base_uri": "https://localhost:8080/"
    },
    "id": "R8JN1nsnAEw-",
    "outputId": "9929dca6-497c-4ef1-ad0c-8aa55ac6a19c"
   },
   "outputs": [
    {
     "name": "stdout",
     "output_type": "stream",
     "text": [
      "Mounted at /content/drive\n"
     ]
    }
   ],
   "source": [
    "from google.colab import drive\n",
    "drive.mount('/content/drive')"
   ]
  },
  {
   "cell_type": "code",
   "execution_count": 6,
   "metadata": {
    "colab": {
     "base_uri": "https://localhost:8080/"
    },
    "collapsed": true,
    "id": "v_VyTwvi5NyG",
    "outputId": "194c2442-e64e-4724-969f-e3ba4870eaca"
   },
   "outputs": [
    {
     "name": "stdout",
     "output_type": "stream",
     "text": [
      "Requirement already satisfied: transformers in /usr/local/lib/python3.11/dist-packages (4.49.0)\n",
      "Requirement already satisfied: datasets in /usr/local/lib/python3.11/dist-packages (3.4.1)\n",
      "Requirement already satisfied: scikit-learn in /usr/local/lib/python3.11/dist-packages (1.6.1)\n",
      "Requirement already satisfied: torch in /usr/local/lib/python3.11/dist-packages (2.6.0+cu124)\n",
      "Requirement already satisfied: filelock in /usr/local/lib/python3.11/dist-packages (from transformers) (3.18.0)\n",
      "Requirement already satisfied: huggingface-hub<1.0,>=0.26.0 in /usr/local/lib/python3.11/dist-packages (from transformers) (0.29.3)\n",
      "Requirement already satisfied: numpy>=1.17 in /usr/local/lib/python3.11/dist-packages (from transformers) (2.0.2)\n",
      "Requirement already satisfied: packaging>=20.0 in /usr/local/lib/python3.11/dist-packages (from transformers) (24.2)\n",
      "Requirement already satisfied: pyyaml>=5.1 in /usr/local/lib/python3.11/dist-packages (from transformers) (6.0.2)\n",
      "Requirement already satisfied: regex!=2019.12.17 in /usr/local/lib/python3.11/dist-packages (from transformers) (2024.11.6)\n",
      "Requirement already satisfied: requests in /usr/local/lib/python3.11/dist-packages (from transformers) (2.32.3)\n",
      "Requirement already satisfied: tokenizers<0.22,>=0.21 in /usr/local/lib/python3.11/dist-packages (from transformers) (0.21.1)\n",
      "Requirement already satisfied: safetensors>=0.4.1 in /usr/local/lib/python3.11/dist-packages (from transformers) (0.5.3)\n",
      "Requirement already satisfied: tqdm>=4.27 in /usr/local/lib/python3.11/dist-packages (from transformers) (4.67.1)\n",
      "Requirement already satisfied: pyarrow>=15.0.0 in /usr/local/lib/python3.11/dist-packages (from datasets) (18.1.0)\n",
      "Requirement already satisfied: dill<0.3.9,>=0.3.0 in /usr/local/lib/python3.11/dist-packages (from datasets) (0.3.8)\n",
      "Requirement already satisfied: pandas in /usr/local/lib/python3.11/dist-packages (from datasets) (2.2.2)\n",
      "Requirement already satisfied: xxhash in /usr/local/lib/python3.11/dist-packages (from datasets) (3.5.0)\n",
      "Requirement already satisfied: multiprocess<0.70.17 in /usr/local/lib/python3.11/dist-packages (from datasets) (0.70.16)\n",
      "Collecting fsspec<=2024.12.0,>=2023.1.0 (from fsspec[http]<=2024.12.0,>=2023.1.0->datasets)\n",
      "  Using cached fsspec-2024.12.0-py3-none-any.whl.metadata (11 kB)\n",
      "Requirement already satisfied: aiohttp in /usr/local/lib/python3.11/dist-packages (from datasets) (3.11.14)\n",
      "Requirement already satisfied: scipy>=1.6.0 in /usr/local/lib/python3.11/dist-packages (from scikit-learn) (1.14.1)\n",
      "Requirement already satisfied: joblib>=1.2.0 in /usr/local/lib/python3.11/dist-packages (from scikit-learn) (1.4.2)\n",
      "Requirement already satisfied: threadpoolctl>=3.1.0 in /usr/local/lib/python3.11/dist-packages (from scikit-learn) (3.6.0)\n",
      "Requirement already satisfied: typing-extensions>=4.10.0 in /usr/local/lib/python3.11/dist-packages (from torch) (4.12.2)\n",
      "Requirement already satisfied: networkx in /usr/local/lib/python3.11/dist-packages (from torch) (3.4.2)\n",
      "Requirement already satisfied: jinja2 in /usr/local/lib/python3.11/dist-packages (from torch) (3.1.6)\n",
      "Requirement already satisfied: nvidia-cuda-nvrtc-cu12==12.4.127 in /usr/local/lib/python3.11/dist-packages (from torch) (12.4.127)\n",
      "Requirement already satisfied: nvidia-cuda-runtime-cu12==12.4.127 in /usr/local/lib/python3.11/dist-packages (from torch) (12.4.127)\n",
      "Requirement already satisfied: nvidia-cuda-cupti-cu12==12.4.127 in /usr/local/lib/python3.11/dist-packages (from torch) (12.4.127)\n",
      "Requirement already satisfied: nvidia-cudnn-cu12==9.1.0.70 in /usr/local/lib/python3.11/dist-packages (from torch) (9.1.0.70)\n",
      "Requirement already satisfied: nvidia-cublas-cu12==12.4.5.8 in /usr/local/lib/python3.11/dist-packages (from torch) (12.4.5.8)\n",
      "Requirement already satisfied: nvidia-cufft-cu12==11.2.1.3 in /usr/local/lib/python3.11/dist-packages (from torch) (11.2.1.3)\n",
      "Requirement already satisfied: nvidia-curand-cu12==10.3.5.147 in /usr/local/lib/python3.11/dist-packages (from torch) (10.3.5.147)\n",
      "Requirement already satisfied: nvidia-cusolver-cu12==11.6.1.9 in /usr/local/lib/python3.11/dist-packages (from torch) (11.6.1.9)\n",
      "Requirement already satisfied: nvidia-cusparse-cu12==12.3.1.170 in /usr/local/lib/python3.11/dist-packages (from torch) (12.3.1.170)\n",
      "Requirement already satisfied: nvidia-cusparselt-cu12==0.6.2 in /usr/local/lib/python3.11/dist-packages (from torch) (0.6.2)\n",
      "Requirement already satisfied: nvidia-nccl-cu12==2.21.5 in /usr/local/lib/python3.11/dist-packages (from torch) (2.21.5)\n",
      "Requirement already satisfied: nvidia-nvtx-cu12==12.4.127 in /usr/local/lib/python3.11/dist-packages (from torch) (12.4.127)\n",
      "Requirement already satisfied: nvidia-nvjitlink-cu12==12.4.127 in /usr/local/lib/python3.11/dist-packages (from torch) (12.4.127)\n",
      "Requirement already satisfied: triton==3.2.0 in /usr/local/lib/python3.11/dist-packages (from torch) (3.2.0)\n",
      "Requirement already satisfied: sympy==1.13.1 in /usr/local/lib/python3.11/dist-packages (from torch) (1.13.1)\n",
      "Requirement already satisfied: mpmath<1.4,>=1.1.0 in /usr/local/lib/python3.11/dist-packages (from sympy==1.13.1->torch) (1.3.0)\n",
      "Requirement already satisfied: aiohappyeyeballs>=2.3.0 in /usr/local/lib/python3.11/dist-packages (from aiohttp->datasets) (2.6.1)\n",
      "Requirement already satisfied: aiosignal>=1.1.2 in /usr/local/lib/python3.11/dist-packages (from aiohttp->datasets) (1.3.2)\n",
      "Requirement already satisfied: attrs>=17.3.0 in /usr/local/lib/python3.11/dist-packages (from aiohttp->datasets) (25.3.0)\n",
      "Requirement already satisfied: frozenlist>=1.1.1 in /usr/local/lib/python3.11/dist-packages (from aiohttp->datasets) (1.5.0)\n",
      "Requirement already satisfied: multidict<7.0,>=4.5 in /usr/local/lib/python3.11/dist-packages (from aiohttp->datasets) (6.2.0)\n",
      "Requirement already satisfied: propcache>=0.2.0 in /usr/local/lib/python3.11/dist-packages (from aiohttp->datasets) (0.3.0)\n",
      "Requirement already satisfied: yarl<2.0,>=1.17.0 in /usr/local/lib/python3.11/dist-packages (from aiohttp->datasets) (1.18.3)\n",
      "Requirement already satisfied: charset-normalizer<4,>=2 in /usr/local/lib/python3.11/dist-packages (from requests->transformers) (3.4.1)\n",
      "Requirement already satisfied: idna<4,>=2.5 in /usr/local/lib/python3.11/dist-packages (from requests->transformers) (3.10)\n",
      "Requirement already satisfied: urllib3<3,>=1.21.1 in /usr/local/lib/python3.11/dist-packages (from requests->transformers) (2.3.0)\n",
      "Requirement already satisfied: certifi>=2017.4.17 in /usr/local/lib/python3.11/dist-packages (from requests->transformers) (2025.1.31)\n",
      "Requirement already satisfied: MarkupSafe>=2.0 in /usr/local/lib/python3.11/dist-packages (from jinja2->torch) (3.0.2)\n",
      "Requirement already satisfied: python-dateutil>=2.8.2 in /usr/local/lib/python3.11/dist-packages (from pandas->datasets) (2.8.2)\n",
      "Requirement already satisfied: pytz>=2020.1 in /usr/local/lib/python3.11/dist-packages (from pandas->datasets) (2025.1)\n",
      "Requirement already satisfied: tzdata>=2022.7 in /usr/local/lib/python3.11/dist-packages (from pandas->datasets) (2025.1)\n",
      "Requirement already satisfied: six>=1.5 in /usr/local/lib/python3.11/dist-packages (from python-dateutil>=2.8.2->pandas->datasets) (1.17.0)\n",
      "Using cached fsspec-2024.12.0-py3-none-any.whl (183 kB)\n",
      "Installing collected packages: fsspec\n",
      "Successfully installed fsspec-2024.12.0\n"
     ]
    }
   ],
   "source": [
    "# !pip install transformers datasets scikit-learn torch"
   ]
  },
  {
   "cell_type": "code",
   "execution_count": 2,
   "metadata": {
    "colab": {
     "base_uri": "https://localhost:8080/"
    },
    "id": "sYsO-eZyyqsH",
    "outputId": "8bc9d9d5-8df9-4739-a78f-bf93e65b7070"
   },
   "outputs": [
    {
     "name": "stdout",
     "output_type": "stream",
     "text": [
      "Conjunto de entrenamiento: 20000 | Conjunto de validación: 5000 | Conjunto de prueba: 25000\n"
     ]
    }
   ],
   "source": [
    "# 步骤3：导入模块\n",
    "import os\n",
    "import numpy as np\n",
    "import torch\n",
    "from sklearn.metrics import accuracy_score, precision_score, recall_score, f1_score\n",
    "from transformers import BertTokenizer, BertForSequenceClassification, Trainer, TrainingArguments\n",
    "# os.environ['WANDB_API_KEY'] = '255fab36462f5587d825c69b9d5b53a852a2c4d3'  # 替换为你的实际 API 密钥\n",
    "os.environ['WANDB_MODE'] = 'disabled'\n",
    "\n",
    "# 步骤4：配置路径\n",
    "DRIVE_DATA_PATH = '/content/drive/MyDrive/Colab Notebooks/data'\n",
    "file_paths = {\n",
    "    'train': os.path.join(DRIVE_DATA_PATH, 'imdb_train.npz'),\n",
    "    'test': os.path.join(DRIVE_DATA_PATH, 'imdb_test.npz'),\n",
    "    'val': os.path.join(DRIVE_DATA_PATH, 'imdb_val.npz')\n",
    "}\n",
    "\n",
    "# 步骤5：加载数据\n",
    "def load_npz(file_path):\n",
    "    data = np.load(file_path)\n",
    "    return data['x'], data['y']\n",
    "\n",
    "# 加载数据集\n",
    "train_texts, train_labels = load_npz(file_paths['train'])\n",
    "val_texts, val_labels = load_npz(file_paths['val'])\n",
    "test_texts, test_labels = load_npz(file_paths['test'])\n",
    "\n",
    "# 新增：打印数据集大小\n",
    "print(f\"Conjunto de entrenamiento: {len(train_texts)} | Conjunto de validación: {len(val_texts)} | Conjunto de prueba: {len(test_texts)}\")"
   ]
  },
  {
   "cell_type": "code",
   "execution_count": 3,
   "metadata": {
    "colab": {
     "base_uri": "https://localhost:8080/",
     "height": 269,
     "referenced_widgets": [
      "b368fde69b1446b589dde369f3e14ba9",
      "c14ba808e56c4d3ea4d9084ff33c2d2d",
      "7059455c78c145d1aff7fea7f13428bd",
      "0e9f9ec3a476485e96a17b8292ff3685",
      "87526705fdf445c5a06aa173f6921aa8",
      "98a0b658973a44358889976d7a75224b",
      "1d7e4f746ed648e0bf0df6aaea87f4e9",
      "94460f39951d4e2ea3f6a54a052a646e",
      "4534db99101d40d7a78d5adef5c56894",
      "80bdf7066cea4b11b6f996d214ad7bec",
      "33fda3b906e74fdab392006fd471cc2e",
      "d17279ab31ae4b38827edb9e5d2a04e9",
      "b63f67e81e6746cbb2aeafdcc0cee893",
      "6cc64a4b90d84e138710ad6a1aeae811",
      "2ec86dd74b0b4361b4c30c6be7d37404",
      "306164745d974e05be49843552c85582",
      "d9092fa2dcc845b09bdd55c3e243314a",
      "6c12bdd483d043c0999e157f8734d5a4",
      "db27595fea60453cb51d15aeedd91494",
      "da1e8b568f474265a66da6015e66e2c8",
      "aa9f1bb6d6cd424f9a53e94f077306ec",
      "9d9ec861ff9b4d1d956706bbb7f5120f",
      "14d0ba147d7c43c588f4848dfc2d98f7",
      "029d349b9b4b41fda7cd3f505de0babf",
      "bd3a49d0c4e64dfbb956891b9f2a7876",
      "be32348451e241b799a104d789df53b0",
      "5afd27a7070749eaa4257ee36db986db",
      "7c6d6365010f47f5b9cfdc16637161ca",
      "5eae33030c9743d6871d898566617ccc",
      "fbc83d4d10c8485eb635ed359b4532e0",
      "7dd551c1c2cd44c6aaddeabd3931d503",
      "abee3e27293047c690fd43de8ac2421a",
      "0f9bc9ed034541d6baddd777b404aa9b",
      "f6a72548296d49d78df8d8dc62a0761c",
      "959b729eb34b4424bef7dbbd1fab06b6",
      "ed1f941504354b4595bb8145f923e939",
      "cffde684688544af820c11a52529c519",
      "90dcbd3280e440efa0183b4e6492a1ac",
      "48912b2822884e89bea83c9d79b54eed",
      "a61cf48ffccc4209b73c961125992622",
      "a2452ad6f51946c291d67da5f037cc2e",
      "ad2998b2c2404cd180a1b612188fb54b",
      "faef0d1d82f04db99fe286c4d55e04d4",
      "9e4aeb894f854401b44c5ae64adccc9d"
     ]
    },
    "id": "GgxrkX6qyrvG",
    "outputId": "688f0c9a-0b2b-45fd-b1db-57e268edfb23"
   },
   "outputs": [
    {
     "name": "stderr",
     "output_type": "stream",
     "text": [
      "/usr/local/lib/python3.11/dist-packages/huggingface_hub/utils/_auth.py:94: UserWarning: \n",
      "The secret `HF_TOKEN` does not exist in your Colab secrets.\n",
      "To authenticate with the Hugging Face Hub, create a token in your settings tab (https://huggingface.co/settings/tokens), set it as secret in your Google Colab and restart your session.\n",
      "You will be able to reuse this secret in all of your notebooks.\n",
      "Please note that authentication is recommended but still optional to access public models or datasets.\n",
      "  warnings.warn(\n"
     ]
    },
    {
     "data": {
      "application/vnd.jupyter.widget-view+json": {
       "model_id": "b368fde69b1446b589dde369f3e14ba9",
       "version_major": 2,
       "version_minor": 0
      },
      "text/plain": [
       "tokenizer_config.json:   0%|          | 0.00/48.0 [00:00<?, ?B/s]"
      ]
     },
     "metadata": {},
     "output_type": "display_data"
    },
    {
     "data": {
      "application/vnd.jupyter.widget-view+json": {
       "model_id": "d17279ab31ae4b38827edb9e5d2a04e9",
       "version_major": 2,
       "version_minor": 0
      },
      "text/plain": [
       "vocab.txt:   0%|          | 0.00/232k [00:00<?, ?B/s]"
      ]
     },
     "metadata": {},
     "output_type": "display_data"
    },
    {
     "data": {
      "application/vnd.jupyter.widget-view+json": {
       "model_id": "14d0ba147d7c43c588f4848dfc2d98f7",
       "version_major": 2,
       "version_minor": 0
      },
      "text/plain": [
       "tokenizer.json:   0%|          | 0.00/466k [00:00<?, ?B/s]"
      ]
     },
     "metadata": {},
     "output_type": "display_data"
    },
    {
     "data": {
      "application/vnd.jupyter.widget-view+json": {
       "model_id": "f6a72548296d49d78df8d8dc62a0761c",
       "version_major": 2,
       "version_minor": 0
      },
      "text/plain": [
       "config.json:   0%|          | 0.00/570 [00:00<?, ?B/s]"
      ]
     },
     "metadata": {},
     "output_type": "display_data"
    }
   ],
   "source": [
    "# 步骤6：数据预处理（修复格式问题）\n",
    "tokenizer = BertTokenizer.from_pretrained('bert-base-uncased')\n",
    "\n",
    "def preprocess(texts, labels):\n",
    "    texts = [str(text) for text in texts]  # 确保文本是字符串\n",
    "    encodings = tokenizer(\n",
    "        texts,\n",
    "        padding=True,\n",
    "        truncation=True,\n",
    "        max_length=512,\n",
    "        return_tensors='pt'\n",
    "    )\n",
    "    # 将标签转换为张量并合并到encodings字典中\n",
    "    encodings['labels'] = torch.tensor(labels)\n",
    "    return encodings\n",
    "\n",
    "# 转换为PyTorch Dataset\n",
    "class IMDbDataset(torch.utils.data.Dataset):\n",
    "    def __init__(self, texts, labels):\n",
    "        self.encodings = preprocess(texts, labels)\n",
    "\n",
    "    def __getitem__(self, idx):\n",
    "        # 返回单个样本的字典格式\n",
    "        return {\n",
    "            'input_ids': self.encodings['input_ids'][idx],\n",
    "            'attention_mask': self.encodings['attention_mask'][idx],\n",
    "            'labels': self.encodings['labels'][idx]\n",
    "        }\n",
    "\n",
    "    def __len__(self):\n",
    "        return len(self.encodings['labels'])\n",
    "\n",
    "# 重新初始化数据集\n",
    "train_dataset = IMDbDataset(train_texts, train_labels)\n",
    "val_dataset = IMDbDataset(val_texts, val_labels)\n",
    "test_dataset = IMDbDataset(test_texts, test_labels)"
   ]
  },
  {
   "cell_type": "code",
   "execution_count": 4,
   "metadata": {
    "colab": {
     "base_uri": "https://localhost:8080/",
     "height": 138,
     "referenced_widgets": [
      "efb8bc6a7b4c4210810cef7346edec5c",
      "7f2b0da9f07745f0b61db2feec3dabd7",
      "b14d6a09936d4c1ebe4a67711b899a19",
      "4271d06dc46c45b9999815d3dc538323",
      "9efed72cd0df4f5396fbcb2900eb33e9",
      "5687401cd12f4739b39b0f396e7a8b95",
      "ff3de1e0154c406fb711cae0b5ffc603",
      "74d5b627376d41549b44e3b26c125057",
      "a6f871b63da04a2bbf9ceb4982793eba",
      "368b8ca561024473b74a0d8a5e7fd994",
      "28802fb4d8a14b8cb065a7d78e79ddf3"
     ]
    },
    "id": "aGkWgHMNzPDe",
    "outputId": "11377aa3-7608-4599-e0a1-7618b006636c"
   },
   "outputs": [
    {
     "name": "stdout",
     "output_type": "stream",
     "text": [
      "Inicializando un nuevo modelo...\n"
     ]
    },
    {
     "data": {
      "application/vnd.jupyter.widget-view+json": {
       "model_id": "efb8bc6a7b4c4210810cef7346edec5c",
       "version_major": 2,
       "version_minor": 0
      },
      "text/plain": [
       "model.safetensors:   0%|          | 0.00/440M [00:00<?, ?B/s]"
      ]
     },
     "metadata": {},
     "output_type": "display_data"
    },
    {
     "name": "stderr",
     "output_type": "stream",
     "text": [
      "Some weights of BertForSequenceClassification were not initialized from the model checkpoint at bert-base-uncased and are newly initialized: ['classifier.bias', 'classifier.weight']\n",
      "You should probably TRAIN this model on a down-stream task to be able to use it for predictions and inference.\n"
     ]
    },
    {
     "name": "stdout",
     "output_type": "stream",
     "text": [
      "Modelo cargado en: cuda\n"
     ]
    }
   ],
   "source": [
    "# 步骤7：模型配置\n",
    "model_save_path = \"/content/drive/MyDrive/Colab Notebooks/model/imdb\"\n",
    "os.makedirs(model_save_path, exist_ok=True)\n",
    "\n",
    "\n",
    "# 自动检测设备（优先GPU，否则CPU）\n",
    "device = torch.device(\"cuda\" if torch.cuda.is_available() else \"cpu\")\n",
    "\n",
    "# 检查是否已存在保存的模型\n",
    "if os.listdir(model_save_path):\n",
    "    print(\"Cargando modelo pre-entrenado...\")\n",
    "    model = BertForSequenceClassification.from_pretrained(model_save_path).to(device)\n",
    "else:\n",
    "    print(\"Inicializando un nuevo modelo...\")\n",
    "    model = BertForSequenceClassification.from_pretrained(\n",
    "        'bert-base-uncased',\n",
    "        num_labels=2,\n",
    "        attention_probs_dropout_prob=0.3\n",
    "    ).to(device)\n",
    "\n",
    "# 显式验证设备\n",
    "print(f\"Modelo cargado en: {device}\")\n"
   ]
  },
  {
   "cell_type": "code",
   "execution_count": 5,
   "metadata": {
    "colab": {
     "base_uri": "https://localhost:8080/"
    },
    "id": "zSQn5vQYzaxC",
    "outputId": "61504ae8-a722-4ab5-f3c5-6f89a7c4fc9c"
   },
   "outputs": [
    {
     "name": "stderr",
     "output_type": "stream",
     "text": [
      "/usr/local/lib/python3.11/dist-packages/transformers/training_args.py:1594: FutureWarning: `evaluation_strategy` is deprecated and will be removed in version 4.46 of 🤗 Transformers. Use `eval_strategy` instead\n",
      "  warnings.warn(\n"
     ]
    }
   ],
   "source": [
    "# 步骤8：训练配置\n",
    "training_args = TrainingArguments(\n",
    "    output_dir=model_save_path,\n",
    "    evaluation_strategy=\"epoch\",\n",
    "    learning_rate=3e-5,\n",
    "    per_device_train_batch_size=32,\n",
    "    per_device_eval_batch_size=64,\n",
    "    num_train_epochs=5,\n",
    "    weight_decay=0.01,\n",
    "    save_strategy=\"epoch\",\n",
    "    load_best_model_at_end=True,\n",
    "    metric_for_best_model=\"f1\",\n",
    "    logging_dir=os.path.join(DRIVE_DATA_PATH, 'logs'),\n",
    "    logging_steps=100\n",
    ")\n",
    "\n",
    "# 步骤9：定义评估指标（新增完整指标）\n",
    "def compute_metrics(pred):\n",
    "    labels = pred.label_ids\n",
    "    preds = pred.predictions.argmax(-1)\n",
    "    precision = precision_score(labels, preds)\n",
    "    recall = recall_score(labels, preds)\n",
    "    f1 = f1_score(labels, preds)\n",
    "    accuracy = accuracy_score(labels, preds)\n",
    "    return {'accuracy': accuracy, 'precision': precision, 'recall': recall, 'f1': f1}"
   ]
  },
  {
   "cell_type": "code",
   "execution_count": 6,
   "metadata": {
    "id": "HGRUEZDm1ctU"
   },
   "outputs": [],
   "source": [
    "# 步骤10：初始化Trainer\n",
    "trainer = Trainer(\n",
    "    model=model,\n",
    "    args=training_args,\n",
    "    train_dataset=train_dataset,\n",
    "    eval_dataset=val_dataset,\n",
    "    compute_metrics=compute_metrics\n",
    ")"
   ]
  },
  {
   "cell_type": "code",
   "execution_count": 7,
   "metadata": {
    "colab": {
     "base_uri": "https://localhost:8080/",
     "height": 304
    },
    "id": "we-q4DSb2Gz8",
    "outputId": "72ae38e8-0a4a-4911-f2de-b373adc759ec"
   },
   "outputs": [
    {
     "name": "stderr",
     "output_type": "stream",
     "text": [
      "\u001b[34m\u001b[1mwandb\u001b[0m: \u001b[33mWARNING\u001b[0m The `run_name` is currently set to the same value as `TrainingArguments.output_dir`. If this was not intended, please specify a different run name by setting the `TrainingArguments.run_name` parameter.\n"
     ]
    },
    {
     "data": {
      "text/html": [
       "\n",
       "    <div>\n",
       "      \n",
       "      <progress value='3125' max='3125' style='width:300px; height:20px; vertical-align: middle;'></progress>\n",
       "      [3125/3125 2:43:54, Epoch 5/5]\n",
       "    </div>\n",
       "    <table border=\"1\" class=\"dataframe\">\n",
       "  <thead>\n",
       " <tr style=\"text-align: left;\">\n",
       "      <th>Epoch</th>\n",
       "      <th>Training Loss</th>\n",
       "      <th>Validation Loss</th>\n",
       "      <th>Accuracy</th>\n",
       "      <th>Precision</th>\n",
       "      <th>Recall</th>\n",
       "      <th>F1</th>\n",
       "    </tr>\n",
       "  </thead>\n",
       "  <tbody>\n",
       "    <tr>\n",
       "      <td>1</td>\n",
       "      <td>0.196400</td>\n",
       "      <td>0.225210</td>\n",
       "      <td>0.914400</td>\n",
       "      <td>0.885704</td>\n",
       "      <td>0.951600</td>\n",
       "      <td>0.917470</td>\n",
       "    </tr>\n",
       "    <tr>\n",
       "      <td>2</td>\n",
       "      <td>0.135000</td>\n",
       "      <td>0.203204</td>\n",
       "      <td>0.929400</td>\n",
       "      <td>0.914319</td>\n",
       "      <td>0.947600</td>\n",
       "      <td>0.930662</td>\n",
       "    </tr>\n",
       "    <tr>\n",
       "      <td>3</td>\n",
       "      <td>0.081300</td>\n",
       "      <td>0.297712</td>\n",
       "      <td>0.928600</td>\n",
       "      <td>0.949266</td>\n",
       "      <td>0.905600</td>\n",
       "      <td>0.926919</td>\n",
       "    </tr>\n",
       "    <tr>\n",
       "      <td>4</td>\n",
       "      <td>0.047600</td>\n",
       "      <td>0.305796</td>\n",
       "      <td>0.936200</td>\n",
       "      <td>0.936375</td>\n",
       "      <td>0.936000</td>\n",
       "      <td>0.936187</td>\n",
       "    </tr>\n",
       "    <tr>\n",
       "      <td>5</td>\n",
       "      <td>0.015800</td>\n",
       "      <td>0.353052</td>\n",
       "      <td>0.934200</td>\n",
       "      <td>0.930242</td>\n",
       "      <td>0.938800</td>\n",
       "      <td>0.934501</td>\n",
       "    </tr>\n",
       "  </tbody>\n",
       "</table><p>"
      ],
      "text/plain": [
       "<IPython.core.display.HTML object>"
      ]
     },
     "metadata": {},
     "output_type": "display_data"
    },
    {
     "data": {
      "text/plain": [
       "TrainOutput(global_step=3125, training_loss=0.11039440212249756, metrics={'train_runtime': 9838.6696, 'train_samples_per_second': 10.164, 'train_steps_per_second': 0.318, 'total_flos': 2.6311105536e+16, 'train_loss': 0.11039440212249756, 'epoch': 5.0})"
      ]
     },
     "execution_count": 7,
     "metadata": {},
     "output_type": "execute_result"
    }
   ],
   "source": [
    "# 执行训练\n",
    "trainer.train()"
   ]
  },
  {
   "cell_type": "code",
   "execution_count": 8,
   "metadata": {
    "colab": {
     "base_uri": "https://localhost:8080/"
    },
    "id": "1JHv_R3K2I2w",
    "outputId": "ea636a53-7783-4171-ae17-bd2cf49f58b3"
   },
   "outputs": [
    {
     "data": {
      "text/plain": [
       "('/content/drive/MyDrive/Colab Notebooks/model/imdb/tokenizer_config.json',\n",
       " '/content/drive/MyDrive/Colab Notebooks/model/imdb/special_tokens_map.json',\n",
       " '/content/drive/MyDrive/Colab Notebooks/model/imdb/vocab.txt',\n",
       " '/content/drive/MyDrive/Colab Notebooks/model/imdb/added_tokens.json')"
      ]
     },
     "execution_count": 8,
     "metadata": {},
     "output_type": "execute_result"
    }
   ],
   "source": [
    "# 保存最佳模型\n",
    "trainer.save_model(model_save_path)\n",
    "tokenizer.save_pretrained(model_save_path)"
   ]
  },
  {
   "cell_type": "code",
   "execution_count": 9,
   "metadata": {
    "colab": {
     "base_uri": "https://localhost:8080/",
     "height": 69
    },
    "id": "sPO3WtWh2NX5",
    "outputId": "ef7d529f-f43e-471b-db08-eb841e73f04f"
   },
   "outputs": [
    {
     "data": {
      "text/html": [],
      "text/plain": [
       "<IPython.core.display.HTML object>"
      ]
     },
     "metadata": {},
     "output_type": "display_data"
    },
    {
     "name": "stdout",
     "output_type": "stream",
     "text": [
      "\n",
      "Modelo BERT en IMDb - Métricas Completas:\n",
      "Precisión: 0.9365 | Recall: 0.9417 | Accuracy: 0.9389 | F1-Score: 0.9391\n"
     ]
    }
   ],
   "source": [
    "# 步骤12：模型评估（新增完整指标）\n",
    "test_preds = trainer.predict(test_dataset)\n",
    "bert_preds = np.argmax(test_preds.predictions, axis=1)\n",
    "\n",
    "precision = precision_score(test_labels, bert_preds)\n",
    "recall = recall_score(test_labels, bert_preds)\n",
    "accuracy = accuracy_score(test_labels, bert_preds)\n",
    "f1 = f1_score(test_labels, bert_preds)\n",
    "\n",
    "print(\"\\nModelo BERT en IMDb - Métricas Completas:\")\n",
    "print(f\"Precisión: {precision:.4f} | Recall: {recall:.4f} | Accuracy: {accuracy:.4f} | F1-Score: {f1:.4f}\")"
   ]
  }
 ],
 "metadata": {
  "accelerator": "GPU",
  "colab": {
   "gpuType": "T4",
   "provenance": []
  },
  "kernelspec": {
   "display_name": "Python 3",
   "name": "python3"
  },
  "language_info": {
   "name": "python"
  }
 },
 "nbformat": 4,
 "nbformat_minor": 0
}
