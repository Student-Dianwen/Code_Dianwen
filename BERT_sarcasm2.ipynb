{
 "cells": [
  {
   "cell_type": "code",
   "execution_count": null,
   "metadata": {
    "colab": {
     "base_uri": "https://localhost:8080/"
    },
    "id": "VvX9DtGvFXlc",
    "outputId": "6af6b569-f9b0-439f-e79b-ea2a95ce3533"
   },
   "outputs": [
    {
     "name": "stdout",
     "output_type": "stream",
     "text": [
      "Mounted at /content/drive\n"
     ]
    }
   ],
   "source": [
    "from google.colab import drive\n",
    "drive.mount('/content/drive')"
   ]
  },
  {
   "cell_type": "code",
   "execution_count": null,
   "metadata": {
    "colab": {
     "base_uri": "https://localhost:8080/"
    },
    "execution": {
     "iopub.execute_input": "2025-04-03T14:32:17.063945Z",
     "iopub.status.busy": "2025-04-03T14:32:17.063471Z",
     "iopub.status.idle": "2025-04-03T14:32:17.411746Z",
     "shell.execute_reply": "2025-04-03T14:32:17.411193Z",
     "shell.execute_reply.started": "2025-04-03T14:32:17.063912Z"
    },
    "id": "8PzELvdPE_iQ",
    "outputId": "4d24159e-cfc0-4390-809e-2d96a5f4682d",
    "scrolled": true
   },
   "outputs": [
    {
     "name": "stdout",
     "output_type": "stream",
     "text": [
      "conjunto de entrenamiento: 16026 | conjunto de validación: 4007 | conjunto de pruebas: 8586\n"
     ]
    }
   ],
   "source": [
    "# === 3. 导入模块 ===\n",
    "import os\n",
    "import pandas as pd\n",
    "from sklearn.model_selection import train_test_split\n",
    "os.environ['WANDB_API_KEY'] = '255fab36462f5587d825c69b9d5b53a852a2c4d3'  # 替换为你的实际 API 密钥\n",
    "os.environ['WANDB_MODE'] = 'disabled'\n",
    "\n",
    "# === 4. 数据加载与预处理 ===\n",
    "def load_data(file_path):\n",
    "    df = pd.read_csv(file_path)\n",
    "    texts = df['text'].tolist()\n",
    "    labels = df['Y'].tolist()\n",
    "    return texts, labels\n",
    "\n",
    "# 路径配置（请确保文件已上传到Google Drive）\n",
    "train_file = \"/content/drive/MyDrive/Colab Notebooks/sarcasm/train.csv\"\n",
    "test_file = \"/content/drive/MyDrive/Colab Notebooks/sarcasm/test.csv\"\n",
    "\n",
    "# 加载数据\n",
    "train_texts, train_labels = load_data(train_file)\n",
    "test_texts, test_labels = load_data(test_file)\n",
    "\n",
    "# 分割训练集/验证集\n",
    "train_texts, val_texts, train_labels, val_labels = train_test_split(\n",
    "    train_texts, train_labels, test_size=0.2, random_state=42\n",
    ")\n",
    "\n",
    "print(f\"conjunto de entrenamiento: {len(train_texts)} | conjunto de validación: {len(val_texts)} | conjunto de pruebas: {len(test_texts)}\")\n"
   ]
  },
  {
   "cell_type": "code",
   "execution_count": null,
   "metadata": {
    "colab": {
     "base_uri": "https://localhost:8080/",
     "height": 336,
     "referenced_widgets": [
      "b54a0d9be79c4331b1c906f653d9b293",
      "0388d20076d84b4d9399588909ae06fb",
      "f44c07e9378c4afeb95f8d211ff35186",
      "ff0dc77e085e42a1b60ba43a59d36977",
      "6956aca5c6184ba388f97234fe79a260",
      "84c03be7be174c2f8babeaab570fb2c8",
      "67e96133b2e7441ab67ac38da3bdca1f",
      "bf165fce821344bd8f91377ac4bceff2",
      "7ec477bb201b4120af3275c6a1dfd04d",
      "f71501bd399b4556b2d1d983b3e827d3",
      "540a0605a39e4cd0a108426bbac0e701",
      "54b2655cc1924ca3af7ba36938ce1438",
      "42802e109a6e4669aa4dbbd9c54c4b34",
      "b09d6a3256c74437a07225a9d1436ef1",
      "48744686bdbf46f3b8b96e45338f443b",
      "3a791934a87d4bc483aef8f5015c9f6d",
      "4d2856a6e0ee49e0b45a3f2f0a9dbfc5",
      "caa05a3431d44d88ba5af17965cfb216",
      "69942ba0f71f4378921d62488e14b64b",
      "dc23398bf9394d2e93e09fb7fdac0d76",
      "d7b1d522fc9e4417b36e8426459ef0d0",
      "b293fc90ed284cb29c8b312d4739fae3",
      "5ce717fb56bb44b39ceb474682849b01",
      "49fd8362df9d414cae8d78560d541067",
      "345d8abc939248d6bfb5596c96b05a57",
      "a23c1e0a9639414ebd72ffe55ce3aa34",
      "e59a771ef0fc414abb6dcc122fcdf6dc",
      "fc1055ac973e440dbad75432b3ab6c36",
      "ac8ff54be37146c49b394f843f7c603b",
      "24b6718dbba1445c95d7990a98a982dc",
      "ca2792c77b0c4f0eb8ac4e033d5f8a06",
      "bb7ea71ec0744c8b810fb3120ad9f95a",
      "e24d242d1f3241659315c913e86cf698",
      "60afd4f0d8164d2685fd3a591bc7dc82",
      "d968601c963041eca321c9f92aae9602",
      "24f48b1aca6f4bd4acd5f21da4535045",
      "fc1c7a2eb375409e986f13407b9e2312",
      "3cf4264070174ea9b0fc226693712580",
      "2a427a8a54a44e78bb9754ecfa1dc96e",
      "ef11c26a8f0645b49a684e86cdbaba66",
      "48d7c49920c243a68b58d967bfef9315",
      "834d61754c9c4652a4538574baa3d200",
      "52dd351d3eef483b811bebe8fb716d1a",
      "1d53362dff5445f983a21c85f5d5c884",
      "2dccbbf9a5c3451991abbc720a3ce969",
      "d183dd9122154b7bb05813dfc34b9588",
      "ec50b4771a39431fa76be89953df1910",
      "e20845a470184c51a74d5bea2b7e1ceb",
      "25c5b6abddab4d99a098843be8592a28",
      "015d256d2c84427c812ee833ed3345a3",
      "3567667d65dd4c4c9c31ac8b0ac58f12",
      "85b7b3ca85f243b7aafa89420ea2dce8",
      "9e402b66eeb24b738da7161d03749ee9",
      "7d86cf9517034b9193c8ba6d42f11f96",
      "f51c0ad362b140479507114e5a2de625"
     ]
    },
    "execution": {
     "iopub.execute_input": "2025-04-03T14:32:23.282184Z",
     "iopub.status.busy": "2025-04-03T14:32:23.281860Z",
     "iopub.status.idle": "2025-04-03T14:32:23.285122Z",
     "shell.execute_reply": "2025-04-03T14:32:23.284676Z",
     "shell.execute_reply.started": "2025-04-03T14:32:23.282164Z"
    },
    "id": "Nw1S4dS7E_iR",
    "outputId": "44165a73-2ab7-4f45-bb58-e7e164cccc94",
    "scrolled": true
   },
   "outputs": [
    {
     "name": "stderr",
     "output_type": "stream",
     "text": [
      "/usr/local/lib/python3.11/dist-packages/huggingface_hub/utils/_auth.py:94: UserWarning: \n",
      "The secret `HF_TOKEN` does not exist in your Colab secrets.\n",
      "To authenticate with the Hugging Face Hub, create a token in your settings tab (https://huggingface.co/settings/tokens), set it as secret in your Google Colab and restart your session.\n",
      "You will be able to reuse this secret in all of your notebooks.\n",
      "Please note that authentication is recommended but still optional to access public models or datasets.\n",
      "  warnings.warn(\n"
     ]
    },
    {
     "data": {
      "application/vnd.jupyter.widget-view+json": {
       "model_id": "b54a0d9be79c4331b1c906f653d9b293",
       "version_major": 2,
       "version_minor": 0
      },
      "text/plain": [
       "tokenizer_config.json:   0%|          | 0.00/48.0 [00:00<?, ?B/s]"
      ]
     },
     "metadata": {},
     "output_type": "display_data"
    },
    {
     "data": {
      "application/vnd.jupyter.widget-view+json": {
       "model_id": "54b2655cc1924ca3af7ba36938ce1438",
       "version_major": 2,
       "version_minor": 0
      },
      "text/plain": [
       "vocab.txt:   0%|          | 0.00/232k [00:00<?, ?B/s]"
      ]
     },
     "metadata": {},
     "output_type": "display_data"
    },
    {
     "data": {
      "application/vnd.jupyter.widget-view+json": {
       "model_id": "5ce717fb56bb44b39ceb474682849b01",
       "version_major": 2,
       "version_minor": 0
      },
      "text/plain": [
       "tokenizer.json:   0%|          | 0.00/466k [00:00<?, ?B/s]"
      ]
     },
     "metadata": {},
     "output_type": "display_data"
    },
    {
     "data": {
      "application/vnd.jupyter.widget-view+json": {
       "model_id": "60afd4f0d8164d2685fd3a591bc7dc82",
       "version_major": 2,
       "version_minor": 0
      },
      "text/plain": [
       "config.json:   0%|          | 0.00/570 [00:00<?, ?B/s]"
      ]
     },
     "metadata": {},
     "output_type": "display_data"
    },
    {
     "data": {
      "application/vnd.jupyter.widget-view+json": {
       "model_id": "2dccbbf9a5c3451991abbc720a3ce969",
       "version_major": 2,
       "version_minor": 0
      },
      "text/plain": [
       "model.safetensors:   0%|          | 0.00/440M [00:00<?, ?B/s]"
      ]
     },
     "metadata": {},
     "output_type": "display_data"
    },
    {
     "name": "stderr",
     "output_type": "stream",
     "text": [
      "Some weights of BertForSequenceClassification were not initialized from the model checkpoint at bert-base-uncased and are newly initialized: ['classifier.bias', 'classifier.weight']\n",
      "You should probably TRAIN this model on a down-stream task to be able to use it for predictions and inference.\n"
     ]
    }
   ],
   "source": [
    "import os\n",
    "import re\n",
    "import numpy as np\n",
    "\n",
    "from sklearn.metrics import accuracy_score, precision_score, recall_score, f1_score\n",
    "from transformers import BertTokenizer, BertForSequenceClassification, Trainer, TrainingArguments, EarlyStoppingCallback\n",
    "import torch\n",
    "\n",
    "# === 5. BERT专用预处理 ===\n",
    "tokenizer = BertTokenizer.from_pretrained('bert-base-uncased')\n",
    "\n",
    "def preprocess(text):\n",
    "    text = text.lower()\n",
    "    text = re.sub(r'http\\S+', '', text)          # 移除URL\n",
    "    text = re.sub(r'\\b(not|no|never)\\b\\s*', r'\\1_', text)  # 处理否定词\n",
    "    return text.strip()\n",
    "\n",
    "# 清洗数据\n",
    "cleaned_train = [preprocess(text) for text in train_texts]\n",
    "cleaned_val = [preprocess(text) for text in val_texts]\n",
    "cleaned_test = [preprocess(text) for text in test_texts]\n",
    "\n",
    "# 转换为Dataset格式\n",
    "class SarcasmDataset(torch.utils.data.Dataset):\n",
    "    def __init__(self, texts, labels):\n",
    "        self.encodings = tokenizer(\n",
    "            texts,\n",
    "            truncation=True,\n",
    "            padding=True,\n",
    "            max_length=128,  # 讽刺文本通常较短\n",
    "            return_tensors='pt'\n",
    "        )\n",
    "        self.labels = labels\n",
    "\n",
    "    def __getitem__(self, idx):\n",
    "        item = {k: v[idx] for k, v in self.encodings.items()}\n",
    "        item['labels'] = torch.tensor(self.labels[idx])\n",
    "        return item\n",
    "\n",
    "    def __len__(self):\n",
    "        return len(self.labels)\n",
    "\n",
    "train_dataset = SarcasmDataset(cleaned_train, train_labels)\n",
    "val_dataset = SarcasmDataset(cleaned_val, val_labels)\n",
    "test_dataset = SarcasmDataset(cleaned_test, test_labels)\n",
    "\n",
    "# === 6. 模型配置与训练 ===\n",
    "model_save_path = \"/content/drive/MyDrive/Colab Notebooks/sarcasm\"\n",
    "os.makedirs(model_save_path, exist_ok=True)\n",
    "\n",
    "# 加载预训练模型\n",
    "device = torch.device('cuda' if torch.cuda.is_available() else 'cpu')\n",
    "model = BertForSequenceClassification.from_pretrained(\n",
    "    'bert-base-uncased',\n",
    "    num_labels=2,\n",
    "    attention_probs_dropout_prob=0.2  # 增加Dropout防止过拟合\n",
    ").to(device)"
   ]
  },
  {
   "cell_type": "code",
   "execution_count": null,
   "metadata": {
    "colab": {
     "base_uri": "https://localhost:8080/",
     "height": 477
    },
    "id": "vFJEyFS2E_iS",
    "outputId": "0f588d81-3f56-4477-e890-5b64cbdeb43a",
    "scrolled": true
   },
   "outputs": [
    {
     "name": "stderr",
     "output_type": "stream",
     "text": [
      "/usr/local/lib/python3.11/dist-packages/transformers/training_args.py:1611: FutureWarning: `evaluation_strategy` is deprecated and will be removed in version 4.46 of 🤗 Transformers. Use `eval_strategy` instead\n",
      "  warnings.warn(\n",
      "\u001b[34m\u001b[1mwandb\u001b[0m: \u001b[33mWARNING\u001b[0m The `run_name` is currently set to the same value as `TrainingArguments.output_dir`. If this was not intended, please specify a different run name by setting the `TrainingArguments.run_name` parameter.\n",
      "\u001b[34m\u001b[1mwandb\u001b[0m: Using wandb-core as the SDK backend.  Please refer to https://wandb.me/wandb-core for more information.\n",
      "\u001b[34m\u001b[1mwandb\u001b[0m: Currently logged in as: \u001b[33manna953480\u001b[0m (\u001b[33manna953480-da\u001b[0m) to \u001b[32mhttps://api.wandb.ai\u001b[0m. Use \u001b[1m`wandb login --relogin`\u001b[0m to force relogin\n"
     ]
    },
    {
     "data": {
      "text/html": [
       "Tracking run with wandb version 0.19.8"
      ],
      "text/plain": [
       "<IPython.core.display.HTML object>"
      ]
     },
     "metadata": {},
     "output_type": "display_data"
    },
    {
     "data": {
      "text/html": [
       "Run data is saved locally in <code>/content/wandb/run-20250403_145345-j9lorq1u</code>"
      ],
      "text/plain": [
       "<IPython.core.display.HTML object>"
      ]
     },
     "metadata": {},
     "output_type": "display_data"
    },
    {
     "data": {
      "text/html": [
       "Syncing run <strong><a href='https://wandb.ai/anna953480-da/huggingface/runs/j9lorq1u' target=\"_blank\">/content/drive/MyDrive/Colab Notebooks/sarcasm</a></strong> to <a href='https://wandb.ai/anna953480-da/huggingface' target=\"_blank\">Weights & Biases</a> (<a href='https://wandb.me/developer-guide' target=\"_blank\">docs</a>)<br>"
      ],
      "text/plain": [
       "<IPython.core.display.HTML object>"
      ]
     },
     "metadata": {},
     "output_type": "display_data"
    },
    {
     "data": {
      "text/html": [
       " View project at <a href='https://wandb.ai/anna953480-da/huggingface' target=\"_blank\">https://wandb.ai/anna953480-da/huggingface</a>"
      ],
      "text/plain": [
       "<IPython.core.display.HTML object>"
      ]
     },
     "metadata": {},
     "output_type": "display_data"
    },
    {
     "data": {
      "text/html": [
       " View run at <a href='https://wandb.ai/anna953480-da/huggingface/runs/j9lorq1u' target=\"_blank\">https://wandb.ai/anna953480-da/huggingface/runs/j9lorq1u</a>"
      ],
      "text/plain": [
       "<IPython.core.display.HTML object>"
      ]
     },
     "metadata": {},
     "output_type": "display_data"
    },
    {
     "data": {
      "text/html": [
       "\n",
       "    <div>\n",
       "      \n",
       "      <progress value='5010' max='5010' style='width:300px; height:20px; vertical-align: middle;'></progress>\n",
       "      [5010/5010 30:34, Epoch 5/5]\n",
       "    </div>\n",
       "    <table border=\"1\" class=\"dataframe\">\n",
       "  <thead>\n",
       " <tr style=\"text-align: left;\">\n",
       "      <th>Epoch</th>\n",
       "      <th>Training Loss</th>\n",
       "      <th>Validation Loss</th>\n",
       "      <th>Accuracy</th>\n",
       "      <th>Precision</th>\n",
       "      <th>Recall</th>\n",
       "      <th>F1</th>\n",
       "    </tr>\n",
       "  </thead>\n",
       "  <tbody>\n",
       "    <tr>\n",
       "      <td>1</td>\n",
       "      <td>0.290300</td>\n",
       "      <td>0.235539</td>\n",
       "      <td>0.900674</td>\n",
       "      <td>0.917272</td>\n",
       "      <td>0.867795</td>\n",
       "      <td>0.891848</td>\n",
       "    </tr>\n",
       "    <tr>\n",
       "      <td>2</td>\n",
       "      <td>0.191200</td>\n",
       "      <td>0.325454</td>\n",
       "      <td>0.897429</td>\n",
       "      <td>0.936836</td>\n",
       "      <td>0.839238</td>\n",
       "      <td>0.885356</td>\n",
       "    </tr>\n",
       "    <tr>\n",
       "      <td>3</td>\n",
       "      <td>0.103100</td>\n",
       "      <td>0.438786</td>\n",
       "      <td>0.903419</td>\n",
       "      <td>0.933180</td>\n",
       "      <td>0.856690</td>\n",
       "      <td>0.893300</td>\n",
       "    </tr>\n",
       "    <tr>\n",
       "      <td>4</td>\n",
       "      <td>0.043600</td>\n",
       "      <td>0.471761</td>\n",
       "      <td>0.912902</td>\n",
       "      <td>0.925497</td>\n",
       "      <td>0.886832</td>\n",
       "      <td>0.905752</td>\n",
       "    </tr>\n",
       "    <tr>\n",
       "      <td>5</td>\n",
       "      <td>0.035900</td>\n",
       "      <td>0.524167</td>\n",
       "      <td>0.911405</td>\n",
       "      <td>0.934881</td>\n",
       "      <td>0.873083</td>\n",
       "      <td>0.902926</td>\n",
       "    </tr>\n",
       "  </tbody>\n",
       "</table><p>"
      ],
      "text/plain": [
       "<IPython.core.display.HTML object>"
      ]
     },
     "metadata": {},
     "output_type": "display_data"
    },
    {
     "data": {
      "text/html": [],
      "text/plain": [
       "<IPython.core.display.HTML object>"
      ]
     },
     "metadata": {},
     "output_type": "display_data"
    },
    {
     "name": "stdout",
     "output_type": "stream",
     "text": [
      "\n",
      "BERT Results for Sarcasm Detection:\n",
      "Accuracy: 0.9179 | Precision: 0.9315 | Recall: 0.8929 | F1-Score: 0.9118\n"
     ]
    }
   ],
   "source": [
    "# 训练参数\n",
    "training_args = TrainingArguments(\n",
    "    output_dir=model_save_path,\n",
    "    evaluation_strategy=\"epoch\",\n",
    "    learning_rate=2e-5,          # 更高的学习率\n",
    "    per_device_train_batch_size=16,\n",
    "    per_device_eval_batch_size=64,\n",
    "    num_train_epochs=5,          # 增加训练轮次\n",
    "    weight_decay=0.01,\n",
    "    save_total_limit=2,\n",
    "    load_best_model_at_end=True, # 根据验证集加载最优模型\n",
    "    metric_for_best_model=\"f1\",\n",
    "    logging_dir='./logs',\n",
    "    logging_steps=50,\n",
    "    save_strategy=\"epoch\"\n",
    ")\n",
    "\n",
    "def compute_metrics(pred):\n",
    "    labels = pred.label_ids\n",
    "    preds = pred.predictions.argmax(-1)\n",
    "    precision = precision_score(labels, preds)\n",
    "    recall = recall_score(labels, preds)\n",
    "    f1 = f1_score(labels, preds)\n",
    "    accuracy = accuracy_score(labels, preds)\n",
    "    return {'accuracy': accuracy, 'precision': precision, 'recall': recall, 'f1': f1}\n",
    "\n",
    "\n",
    "# 添加早停机制\n",
    "trainer = Trainer(\n",
    "    model=model,\n",
    "    args=training_args,\n",
    "    train_dataset=train_dataset,\n",
    "    eval_dataset=val_dataset,\n",
    "    compute_metrics=compute_metrics\n",
    ")\n",
    "\n",
    "# 执行训练\n",
    "trainer.train()\n",
    "\n",
    "# 保存最佳模型\n",
    "trainer.save_model(model_save_path)\n",
    "tokenizer.save_pretrained(model_save_path)\n",
    "\n",
    "# === 7. 模型评估 ===\n",
    "predictions = trainer.predict(test_dataset)\n",
    "bert_preds = np.argmax(predictions.predictions, axis=1)\n",
    "\n",
    "# 计算指标\n",
    "accuracy = accuracy_score(test_labels, bert_preds)\n",
    "precision = precision_score(test_labels, bert_preds)\n",
    "recall = recall_score(test_labels, bert_preds)\n",
    "f1 = f1_score(test_labels, bert_preds)\n",
    "\n",
    "print(f\"\\nBERT Results for Sarcasm Detection:\")\n",
    "print(f\"Accuracy: {accuracy:.4f} | Precision: {precision:.4f} | Recall: {recall:.4f} | F1-Score: {f1:.4f}\")"
   ]
  }
 ],
 "metadata": {
  "colab": {
   "provenance": []
  },
  "kernelspec": {
   "display_name": "Python 3",
   "language": "python",
   "name": "py35-paddle1.2.0"
  },
  "language_info": {
   "codemirror_mode": {
    "name": "ipython",
    "version": 3
   },
   "file_extension": ".py",
   "mimetype": "text/x-python",
   "name": "python",
   "nbconvert_exporter": "python",
   "pygments_lexer": "ipython3",
   "version": "3.10.10"
  }
 },
 "nbformat": 4,
 "nbformat_minor": 0
}
