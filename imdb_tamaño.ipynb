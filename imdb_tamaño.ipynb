{
  "nbformat": 4,
  "nbformat_minor": 0,
  "metadata": {
    "colab": {
      "provenance": []
    },
    "kernelspec": {
      "name": "python3",
      "display_name": "Python 3"
    },
    "language_info": {
      "name": "python"
    }
  },
  "cells": [
    {
      "cell_type": "code",
      "source": [
        "from google.colab import drive\n",
        "drive.mount('/content/drive')"
      ],
      "metadata": {
        "colab": {
          "base_uri": "https://localhost:8080/"
        },
        "id": "AtqNmNO6KNbM",
        "outputId": "481448e5-b724-4b40-d946-863d72fd783d"
      },
      "execution_count": 2,
      "outputs": [
        {
          "output_type": "stream",
          "name": "stdout",
          "text": [
            "Mounted at /content/drive\n"
          ]
        }
      ]
    },
    {
      "cell_type": "code",
      "execution_count": 5,
      "metadata": {
        "colab": {
          "base_uri": "https://localhost:8080/"
        },
        "id": "ipKJ1M1TJ1fc",
        "outputId": "ccea73aa-702a-4763-ed74-38ae579e5faf"
      },
      "outputs": [
        {
          "output_type": "stream",
          "name": "stdout",
          "text": [
            "Conjunto de entrenamiento: 20000 (pos: 10000, neg: 10000)\n",
            "Conjunto de validación: 5000 (pos: 2500, neg: 2500)\n",
            "Conjunto de prueba: 25000 (pos: 12500, neg: 12500)\n"
          ]
        }
      ],
      "source": [
        "import os\n",
        "import numpy as np\n",
        "\n",
        "# 步骤4：配置路径\n",
        "DRIVE_DATA_PATH = '/content/drive/MyDrive/Colab Notebooks/data'\n",
        "file_paths = {\n",
        "    'train': os.path.join(DRIVE_DATA_PATH, 'imdb_train.npz'),\n",
        "    'test': os.path.join(DRIVE_DATA_PATH, 'imdb_test.npz'),\n",
        "    'val': os.path.join(DRIVE_DATA_PATH, 'imdb_val.npz')\n",
        "}\n",
        "\n",
        "# 步骤5：加载数据\n",
        "def load_npz(file_path):\n",
        "    data = np.load(file_path)\n",
        "    return data['x'], data['y']\n",
        "\n",
        "# 加载数据集\n",
        "train_texts, train_labels = load_npz(file_paths['train'])\n",
        "val_texts, val_labels = load_npz(file_paths['val'])\n",
        "test_texts, test_labels = load_npz(file_paths['test'])\n",
        "\n",
        "# 新增：打印数据集大小\n",
        "print(f\"Conjunto de entrenamiento: {len(train_texts)} (pos: {np.sum(train_labels)}, neg: {len(train_labels) - np.sum(train_labels)})\")\n",
        "print(f\"Conjunto de validación: {len(val_texts)} (pos: {np.sum(val_labels)}, neg: {len(val_labels) - np.sum(val_labels)})\")\n",
        "print(f\"Conjunto de prueba: {len(test_texts)} (pos: {np.sum(test_labels)}, neg: {len(test_labels) - np.sum(test_labels)})\")"
      ]
    }
  ]
}