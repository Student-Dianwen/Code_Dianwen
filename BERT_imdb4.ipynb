{
 "cells": [
  {
   "cell_type": "code",
   "execution_count": 1,
   "metadata": {
    "colab": {
     "base_uri": "https://localhost:8080/"
    },
    "id": "ZhQsox3S5zZu",
    "outputId": "dccebf7e-862b-459b-8342-ed84f19553f7"
   },
   "outputs": [
    {
     "name": "stdout",
     "output_type": "stream",
     "text": [
      "Mounted at /content/drive\n"
     ]
    }
   ],
   "source": [
    "from google.colab import drive\n",
    "drive.mount('/content/drive')"
   ]
  },
  {
   "cell_type": "code",
   "execution_count": null,
   "metadata": {
    "colab": {
     "base_uri": "https://localhost:8080/"
    },
    "collapsed": true,
    "id": "FD7etwq1UDLS",
    "outputId": "045b90ae-2478-4f8d-fb42-c8ec98ff92d7"
   },
   "outputs": [
    {
     "name": "stdout",
     "output_type": "stream",
     "text": [
      "Collecting transformers\n",
      "  Downloading transformers-4.51.3-py3-none-any.whl.metadata (38 kB)\n",
      "Requirement already satisfied: scikit-learn in /usr/local/lib/python3.11/dist-packages (1.6.1)\n",
      "Requirement already satisfied: torch in /usr/local/lib/python3.11/dist-packages (2.6.0+cu124)\n",
      "Requirement already satisfied: filelock in /usr/local/lib/python3.11/dist-packages (from transformers) (3.18.0)\n",
      "Requirement already satisfied: huggingface-hub<1.0,>=0.30.0 in /usr/local/lib/python3.11/dist-packages (from transformers) (0.30.2)\n",
      "Requirement already satisfied: numpy>=1.17 in /usr/local/lib/python3.11/dist-packages (from transformers) (2.0.2)\n",
      "Requirement already satisfied: packaging>=20.0 in /usr/local/lib/python3.11/dist-packages (from transformers) (24.2)\n",
      "Requirement already satisfied: pyyaml>=5.1 in /usr/local/lib/python3.11/dist-packages (from transformers) (6.0.2)\n",
      "Requirement already satisfied: regex!=2019.12.17 in /usr/local/lib/python3.11/dist-packages (from transformers) (2024.11.6)\n",
      "Requirement already satisfied: requests in /usr/local/lib/python3.11/dist-packages (from transformers) (2.32.3)\n",
      "Requirement already satisfied: tokenizers<0.22,>=0.21 in /usr/local/lib/python3.11/dist-packages (from transformers) (0.21.1)\n",
      "Requirement already satisfied: safetensors>=0.4.3 in /usr/local/lib/python3.11/dist-packages (from transformers) (0.5.3)\n",
      "Requirement already satisfied: tqdm>=4.27 in /usr/local/lib/python3.11/dist-packages (from transformers) (4.67.1)\n",
      "Requirement already satisfied: scipy>=1.6.0 in /usr/local/lib/python3.11/dist-packages (from scikit-learn) (1.14.1)\n",
      "Requirement already satisfied: joblib>=1.2.0 in /usr/local/lib/python3.11/dist-packages (from scikit-learn) (1.4.2)\n",
      "Requirement already satisfied: threadpoolctl>=3.1.0 in /usr/local/lib/python3.11/dist-packages (from scikit-learn) (3.6.0)\n",
      "Requirement already satisfied: typing-extensions>=4.10.0 in /usr/local/lib/python3.11/dist-packages (from torch) (4.13.1)\n",
      "Requirement already satisfied: networkx in /usr/local/lib/python3.11/dist-packages (from torch) (3.4.2)\n",
      "Requirement already satisfied: jinja2 in /usr/local/lib/python3.11/dist-packages (from torch) (3.1.6)\n",
      "Requirement already satisfied: fsspec in /usr/local/lib/python3.11/dist-packages (from torch) (2025.3.2)\n",
      "Requirement already satisfied: nvidia-cuda-nvrtc-cu12==12.4.127 in /usr/local/lib/python3.11/dist-packages (from torch) (12.4.127)\n",
      "Requirement already satisfied: nvidia-cuda-runtime-cu12==12.4.127 in /usr/local/lib/python3.11/dist-packages (from torch) (12.4.127)\n",
      "Requirement already satisfied: nvidia-cuda-cupti-cu12==12.4.127 in /usr/local/lib/python3.11/dist-packages (from torch) (12.4.127)\n",
      "Requirement already satisfied: nvidia-cudnn-cu12==9.1.0.70 in /usr/local/lib/python3.11/dist-packages (from torch) (9.1.0.70)\n",
      "Requirement already satisfied: nvidia-cublas-cu12==12.4.5.8 in /usr/local/lib/python3.11/dist-packages (from torch) (12.4.5.8)\n",
      "Requirement already satisfied: nvidia-cufft-cu12==11.2.1.3 in /usr/local/lib/python3.11/dist-packages (from torch) (11.2.1.3)\n",
      "Requirement already satisfied: nvidia-curand-cu12==10.3.5.147 in /usr/local/lib/python3.11/dist-packages (from torch) (10.3.5.147)\n",
      "Requirement already satisfied: nvidia-cusolver-cu12==11.6.1.9 in /usr/local/lib/python3.11/dist-packages (from torch) (11.6.1.9)\n",
      "Requirement already satisfied: nvidia-cusparse-cu12==12.3.1.170 in /usr/local/lib/python3.11/dist-packages (from torch) (12.3.1.170)\n",
      "Requirement already satisfied: nvidia-cusparselt-cu12==0.6.2 in /usr/local/lib/python3.11/dist-packages (from torch) (0.6.2)\n",
      "Requirement already satisfied: nvidia-nccl-cu12==2.21.5 in /usr/local/lib/python3.11/dist-packages (from torch) (2.21.5)\n",
      "Requirement already satisfied: nvidia-nvtx-cu12==12.4.127 in /usr/local/lib/python3.11/dist-packages (from torch) (12.4.127)\n",
      "Requirement already satisfied: nvidia-nvjitlink-cu12==12.4.127 in /usr/local/lib/python3.11/dist-packages (from torch) (12.4.127)\n",
      "Requirement already satisfied: triton==3.2.0 in /usr/local/lib/python3.11/dist-packages (from torch) (3.2.0)\n",
      "Requirement already satisfied: sympy==1.13.1 in /usr/local/lib/python3.11/dist-packages (from torch) (1.13.1)\n",
      "Requirement already satisfied: mpmath<1.4,>=1.1.0 in /usr/local/lib/python3.11/dist-packages (from sympy==1.13.1->torch) (1.3.0)\n",
      "Requirement already satisfied: MarkupSafe>=2.0 in /usr/local/lib/python3.11/dist-packages (from jinja2->torch) (3.0.2)\n",
      "Requirement already satisfied: charset-normalizer<4,>=2 in /usr/local/lib/python3.11/dist-packages (from requests->transformers) (3.4.1)\n",
      "Requirement already satisfied: idna<4,>=2.5 in /usr/local/lib/python3.11/dist-packages (from requests->transformers) (3.10)\n",
      "Requirement already satisfied: urllib3<3,>=1.21.1 in /usr/local/lib/python3.11/dist-packages (from requests->transformers) (2.3.0)\n",
      "Requirement already satisfied: certifi>=2017.4.17 in /usr/local/lib/python3.11/dist-packages (from requests->transformers) (2025.1.31)\n",
      "Downloading transformers-4.51.3-py3-none-any.whl (10.4 MB)\n",
      "\u001b[2K   \u001b[90m━━━━━━━━━━━━━━━━━━━━━━━━━━━━━━━━━━━━━━━━\u001b[0m \u001b[32m10.4/10.4 MB\u001b[0m \u001b[31m80.8 MB/s\u001b[0m eta \u001b[36m0:00:00\u001b[0m\n",
      "\u001b[?25hInstalling collected packages: transformers\n",
      "Successfully installed transformers-4.51.3\n"
     ]
    }
   ],
   "source": [
    "# !pip install transformers scikit-learn torch"
   ]
  },
  {
   "cell_type": "code",
   "execution_count": 2,
   "metadata": {
    "colab": {
     "base_uri": "https://localhost:8080/"
    },
    "id": "quTfI5DS5xXw",
    "outputId": "d41a05bd-f6e5-46ec-c9b4-e5d001c36d15"
   },
   "outputs": [
    {
     "name": "stdout",
     "output_type": "stream",
     "text": [
      "Conjunto de entrenamiento: 20000 | Conjunto de validación: 5000 | Conjunto de prueba: 25000\n"
     ]
    }
   ],
   "source": [
    "# 步骤3：导入模块\n",
    "import os\n",
    "import numpy as np\n",
    "import torch\n",
    "from sklearn.metrics import accuracy_score, precision_score, recall_score, f1_score\n",
    "from transformers import BertTokenizer, BertForSequenceClassification, Trainer, TrainingArguments\n",
    "# os.environ['WANDB_API_KEY'] = '255fab36462f5587d825c69b9d5b53a852a2c4d3'  # 替换为你的实际 API 密钥\n",
    "os.environ['WANDB_MODE'] = 'disabled'\n",
    "\n",
    "# 步骤4：配置路径\n",
    "DRIVE_DATA_PATH = '/content/drive/MyDrive/Colab Notebooks/data'\n",
    "file_paths = {\n",
    "    'train': os.path.join(DRIVE_DATA_PATH, 'imdb_train.npz'),\n",
    "    'test': os.path.join(DRIVE_DATA_PATH, 'imdb_test.npz'),\n",
    "    'val': os.path.join(DRIVE_DATA_PATH, 'imdb_val.npz')\n",
    "}\n",
    "\n",
    "# 步骤5：加载数据\n",
    "def load_npz(file_path):\n",
    "    data = np.load(file_path)\n",
    "    return data['x'], data['y']\n",
    "\n",
    "# 加载数据集\n",
    "train_texts, train_labels = load_npz(file_paths['train'])\n",
    "val_texts, val_labels = load_npz(file_paths['val'])\n",
    "test_texts, test_labels = load_npz(file_paths['test'])\n",
    "\n",
    "# 新增：打印数据集大小\n",
    "print(f\"Conjunto de entrenamiento: {len(train_texts)} | Conjunto de validación: {len(val_texts)} | Conjunto de prueba: {len(test_texts)}\")"
   ]
  },
  {
   "cell_type": "code",
   "execution_count": 3,
   "metadata": {
    "colab": {
     "base_uri": "https://localhost:8080/",
     "height": 274,
     "referenced_widgets": [
      "c67a45c03def45278122e91547329fbb",
      "17f087e4d7e644f68fea8ddd7e8221b5",
      "a85f725ac46845e18f437400d7ee3661",
      "d672ea6cce8c4177a8985c470f81fa16",
      "e403fb8e1b664aef805350d72c5bce21",
      "20e965173b5a4f04a5aaa3f943eabbc3",
      "43b47d71f38c4a1699a45d98594ba623",
      "44a87170661e443d8c831ecac21a2b4b",
      "78ec8c125f9449bb9e79ce8ad7de9c9d",
      "e7bfcc71a55649eeb32fde7af3210300",
      "c7673126426a449796e632c01d66ed4e",
      "38e980a815134a3bb668b854889dac90",
      "db533bac728f45fe90036bf5096116ff",
      "7e56d719d68347d59fdd63a6daafeffc",
      "f37b5c6683a64aefa45dfaec99bf294f",
      "6d97b9ce4f5049949cf215bb4ef1e7ef",
      "ffefc353fa094cb582999877fa93d6c8",
      "9544b2a0eb5d42ed8a360fc5190371b8",
      "711567d440a9405aa798d2a1d9a0d803",
      "e08b763d557c4b53934191f4173cbc84",
      "a914d85f19c0432ba2e71eeecc976027",
      "3f1ffc5fba3e4966ab1953170a17908c",
      "426a7605994540d891ce6cf5003cd8d9",
      "cb806aa04b3e47c7a365d5a2f37c8294",
      "3b98a72c13b543adb2d33882d3bed985",
      "d8fdb20deb46478fbae2ff0d55736361",
      "cd459fd5da154adfa2e555b0cf313c0d",
      "8d175fceceef4db2a86e498e047471ca",
      "642e01b5de474d85bfb6f5fac53f3b73",
      "2dac84692e3c4fa09177992a2cbb8240",
      "903987c5e73a44d2827f6af11433142d",
      "286dff308bdb4a23b912051563069b59",
      "356ecb32399043a2bb31451f1913bde3",
      "a8f6f782bdc74f0e9591e93305e3367a",
      "27235cad2e774e438fbe134401fed7ec",
      "9772cf7fa25248b18230ec2395fe3129",
      "550a6c7c88b34265afb1ed543348eee7",
      "c70f1c253bef42148bca5a0e6549cebf",
      "6326b8a5eecc483e82e044a111b3ff56",
      "2bbd4191ffd74f1a90556ff8fd92e560",
      "2e3b24ce830343ab9353622f9747e8d4",
      "7e762328159b4741895536f68687c1a1",
      "4c7fd5c0a0c04bffa3f5ae488b26b3b5",
      "2d16e40fc31b49428be54c69464b55b1"
     ]
    },
    "collapsed": true,
    "id": "T6T9P2jQ_v8q",
    "outputId": "3a988dda-83fa-44e1-8cbf-f156392e586d"
   },
   "outputs": [
    {
     "name": "stderr",
     "output_type": "stream",
     "text": [
      "/usr/local/lib/python3.11/dist-packages/huggingface_hub/utils/_auth.py:94: UserWarning: \n",
      "The secret `HF_TOKEN` does not exist in your Colab secrets.\n",
      "To authenticate with the Hugging Face Hub, create a token in your settings tab (https://huggingface.co/settings/tokens), set it as secret in your Google Colab and restart your session.\n",
      "You will be able to reuse this secret in all of your notebooks.\n",
      "Please note that authentication is recommended but still optional to access public models or datasets.\n",
      "  warnings.warn(\n"
     ]
    },
    {
     "data": {
      "application/vnd.jupyter.widget-view+json": {
       "model_id": "c67a45c03def45278122e91547329fbb",
       "version_major": 2,
       "version_minor": 0
      },
      "text/plain": [
       "tokenizer_config.json:   0%|          | 0.00/48.0 [00:00<?, ?B/s]"
      ]
     },
     "metadata": {},
     "output_type": "display_data"
    },
    {
     "data": {
      "application/vnd.jupyter.widget-view+json": {
       "model_id": "38e980a815134a3bb668b854889dac90",
       "version_major": 2,
       "version_minor": 0
      },
      "text/plain": [
       "vocab.txt:   0%|          | 0.00/232k [00:00<?, ?B/s]"
      ]
     },
     "metadata": {},
     "output_type": "display_data"
    },
    {
     "data": {
      "application/vnd.jupyter.widget-view+json": {
       "model_id": "426a7605994540d891ce6cf5003cd8d9",
       "version_major": 2,
       "version_minor": 0
      },
      "text/plain": [
       "tokenizer.json:   0%|          | 0.00/466k [00:00<?, ?B/s]"
      ]
     },
     "metadata": {},
     "output_type": "display_data"
    },
    {
     "data": {
      "application/vnd.jupyter.widget-view+json": {
       "model_id": "a8f6f782bdc74f0e9591e93305e3367a",
       "version_major": 2,
       "version_minor": 0
      },
      "text/plain": [
       "config.json:   0%|          | 0.00/570 [00:00<?, ?B/s]"
      ]
     },
     "metadata": {},
     "output_type": "display_data"
    }
   ],
   "source": [
    "# 步骤6：数据预处理（修复格式问题）\n",
    "tokenizer = BertTokenizer.from_pretrained('bert-base-uncased')\n",
    "\n",
    "def preprocess(texts, labels):\n",
    "    texts = [str(text) for text in texts]  # 确保文本是字符串\n",
    "    encodings = tokenizer(\n",
    "        texts,\n",
    "        padding=True,\n",
    "        truncation=True,\n",
    "        max_length=512,\n",
    "        return_tensors='pt'\n",
    "    )\n",
    "    # 将标签转换为张量并合并到encodings字典中\n",
    "    encodings['labels'] = torch.tensor(labels)\n",
    "    return encodings\n",
    "\n",
    "# 转换为PyTorch Dataset\n",
    "class IMDbDataset(torch.utils.data.Dataset):\n",
    "    def __init__(self, texts, labels):\n",
    "        self.encodings = preprocess(texts, labels)\n",
    "\n",
    "    def __getitem__(self, idx):\n",
    "        # 返回单个样本的字典格式\n",
    "        return {\n",
    "            'input_ids': self.encodings['input_ids'][idx],\n",
    "            'attention_mask': self.encodings['attention_mask'][idx],\n",
    "            'labels': self.encodings['labels'][idx]\n",
    "        }\n",
    "\n",
    "    def __len__(self):\n",
    "        return len(self.encodings['labels'])\n",
    "\n",
    "# 重新初始化数据集\n",
    "train_dataset = IMDbDataset(train_texts, train_labels)\n",
    "val_dataset = IMDbDataset(val_texts, val_labels)\n",
    "test_dataset = IMDbDataset(test_texts, test_labels)"
   ]
  },
  {
   "cell_type": "code",
   "execution_count": 4,
   "metadata": {
    "colab": {
     "base_uri": "https://localhost:8080/",
     "height": 178,
     "referenced_widgets": [
      "31fe9f1244d144c08dff468334956d24",
      "38d347663057463f98543d893c1a2470",
      "f221fd23fa05469b9512df578d043062",
      "4df5fcb5628f4ea19c8077d1131bb22d",
      "509cd5732cad4989a2bbb6c25e3ded30",
      "b290e8b41b3a4625ad8a48a41d52b413",
      "641d44bfc7e6413fa55c4911b75cd54c",
      "c87c99a668bc46969030c9a14f2c0066",
      "ddbf29f064504c09a40b50ba0ac6a1fa",
      "2517bb6127a3489cb3a015c53bb13f9b",
      "857e539d0d23484796f61c1ebb7eadb9"
     ]
    },
    "id": "kbqCQ2db6Yfj",
    "outputId": "0ffc6598-96e7-467c-ad5a-577b49c285c1"
   },
   "outputs": [
    {
     "name": "stdout",
     "output_type": "stream",
     "text": [
      "Inicializando un nuevo modelo...\n"
     ]
    },
    {
     "name": "stderr",
     "output_type": "stream",
     "text": [
      "Xet Storage is enabled for this repo, but the 'hf_xet' package is not installed. Falling back to regular HTTP download. For better performance, install the package with: `pip install huggingface_hub[hf_xet]` or `pip install hf_xet`\n",
      "WARNING:huggingface_hub.file_download:Xet Storage is enabled for this repo, but the 'hf_xet' package is not installed. Falling back to regular HTTP download. For better performance, install the package with: `pip install huggingface_hub[hf_xet]` or `pip install hf_xet`\n"
     ]
    },
    {
     "data": {
      "application/vnd.jupyter.widget-view+json": {
       "model_id": "31fe9f1244d144c08dff468334956d24",
       "version_major": 2,
       "version_minor": 0
      },
      "text/plain": [
       "model.safetensors:   0%|          | 0.00/440M [00:00<?, ?B/s]"
      ]
     },
     "metadata": {},
     "output_type": "display_data"
    },
    {
     "name": "stderr",
     "output_type": "stream",
     "text": [
      "Some weights of BertForSequenceClassification were not initialized from the model checkpoint at bert-base-uncased and are newly initialized: ['classifier.bias', 'classifier.weight']\n",
      "You should probably TRAIN this model on a down-stream task to be able to use it for predictions and inference.\n"
     ]
    },
    {
     "name": "stdout",
     "output_type": "stream",
     "text": [
      "Modelo cargado en: cuda\n"
     ]
    }
   ],
   "source": [
    "# 步骤7：模型配置\n",
    "# model_save_path = \"/content/drive/MyDrive/Colab Notebooks/model/imdb\"\n",
    "# os.makedirs(model_save_path, exist_ok=True)\n",
    "\n",
    "\n",
    "# 自动检测设备（优先GPU，否则CPU）\n",
    "device = torch.device(\"cuda\" if torch.cuda.is_available() else \"cpu\")\n",
    "\n",
    "# 初始化新模型（每次运行都会从头载入预训练权重）\n",
    "print(\"Inicializando un nuevo modelo...\")\n",
    "model = BertForSequenceClassification.from_pretrained(\n",
    "    'bert-base-uncased',\n",
    "    num_labels=2,\n",
    "    attention_probs_dropout_prob=0.2  # 你可以调整这个 Dropout 值\n",
    ").to(device)\n",
    "\n",
    "# 显式验证设备\n",
    "print(f\"Modelo cargado en: {device}\")"
   ]
  },
  {
   "cell_type": "code",
   "execution_count": 9,
   "metadata": {
    "id": "GJt9iyjF6cC0"
   },
   "outputs": [],
   "source": [
    "# 步骤8：训练配置\n",
    "training_args = TrainingArguments(\n",
    "    output_dir=\"/content/drive/MyDrive/Colab Notebooks/data\",\n",
    "    eval_strategy=\"epoch\",\n",
    "    learning_rate=1e-5,\n",
    "    per_device_train_batch_size=32,\n",
    "    per_device_eval_batch_size=64,\n",
    "    num_train_epochs=5,\n",
    "    weight_decay=0.01,\n",
    "    save_strategy=\"no\",\n",
    "    load_best_model_at_end=False,\n",
    "    metric_for_best_model=\"f1\",\n",
    "    logging_dir=os.path.join(DRIVE_DATA_PATH, 'logs'),\n",
    "    logging_steps=100\n",
    ")\n",
    "\n",
    "# 步骤9：定义评估指标（新增完整指标）\n",
    "def compute_metrics(pred):\n",
    "    labels = pred.label_ids\n",
    "    preds = pred.predictions.argmax(-1)\n",
    "    precision = precision_score(labels, preds)\n",
    "    recall = recall_score(labels, preds)\n",
    "    f1 = f1_score(labels, preds)\n",
    "    accuracy = accuracy_score(labels, preds)\n",
    "    return {'accuracy': accuracy, 'precision': precision, 'recall': recall, 'f1': f1}"
   ]
  },
  {
   "cell_type": "code",
   "execution_count": 10,
   "metadata": {
    "id": "PRxKrY7p5yQk"
   },
   "outputs": [],
   "source": [
    "# 步骤10：初始化Trainer\n",
    "trainer = Trainer(\n",
    "    model=model,\n",
    "    args=training_args,\n",
    "    train_dataset=train_dataset,\n",
    "    eval_dataset=val_dataset,\n",
    "    compute_metrics=compute_metrics\n",
    ")"
   ]
  },
  {
   "cell_type": "code",
   "execution_count": 11,
   "metadata": {
    "colab": {
     "base_uri": "https://localhost:8080/",
     "height": 269
    },
    "id": "O7offBLN51OK",
    "outputId": "ee162b61-7119-4e33-fd9d-722d1d69f615"
   },
   "outputs": [
    {
     "data": {
      "text/html": [
       "\n",
       "    <div>\n",
       "      \n",
       "      <progress value='3125' max='3125' style='width:300px; height:20px; vertical-align: middle;'></progress>\n",
       "      [3125/3125 2:44:15, Epoch 5/5]\n",
       "    </div>\n",
       "    <table border=\"1\" class=\"dataframe\">\n",
       "  <thead>\n",
       " <tr style=\"text-align: left;\">\n",
       "      <th>Epoch</th>\n",
       "      <th>Training Loss</th>\n",
       "      <th>Validation Loss</th>\n",
       "      <th>Accuracy</th>\n",
       "      <th>Precision</th>\n",
       "      <th>Recall</th>\n",
       "      <th>F1</th>\n",
       "    </tr>\n",
       "  </thead>\n",
       "  <tbody>\n",
       "    <tr>\n",
       "      <td>1</td>\n",
       "      <td>0.187300</td>\n",
       "      <td>0.225512</td>\n",
       "      <td>0.915000</td>\n",
       "      <td>0.887561</td>\n",
       "      <td>0.950400</td>\n",
       "      <td>0.917906</td>\n",
       "    </tr>\n",
       "    <tr>\n",
       "      <td>2</td>\n",
       "      <td>0.158000</td>\n",
       "      <td>0.229313</td>\n",
       "      <td>0.914200</td>\n",
       "      <td>0.882244</td>\n",
       "      <td>0.956000</td>\n",
       "      <td>0.917643</td>\n",
       "    </tr>\n",
       "    <tr>\n",
       "      <td>3</td>\n",
       "      <td>0.129100</td>\n",
       "      <td>0.254547</td>\n",
       "      <td>0.928600</td>\n",
       "      <td>0.927745</td>\n",
       "      <td>0.929600</td>\n",
       "      <td>0.928671</td>\n",
       "    </tr>\n",
       "    <tr>\n",
       "      <td>4</td>\n",
       "      <td>0.100800</td>\n",
       "      <td>0.265294</td>\n",
       "      <td>0.929000</td>\n",
       "      <td>0.923077</td>\n",
       "      <td>0.936000</td>\n",
       "      <td>0.929494</td>\n",
       "    </tr>\n",
       "    <tr>\n",
       "      <td>5</td>\n",
       "      <td>0.075800</td>\n",
       "      <td>0.281975</td>\n",
       "      <td>0.928400</td>\n",
       "      <td>0.920991</td>\n",
       "      <td>0.937200</td>\n",
       "      <td>0.929025</td>\n",
       "    </tr>\n",
       "  </tbody>\n",
       "</table><p>"
      ],
      "text/plain": [
       "<IPython.core.display.HTML object>"
      ]
     },
     "metadata": {},
     "output_type": "display_data"
    },
    {
     "data": {
      "text/plain": [
       "TrainOutput(global_step=3125, training_loss=0.14693062755584715, metrics={'train_runtime': 9859.1805, 'train_samples_per_second': 10.143, 'train_steps_per_second': 0.317, 'total_flos': 2.6311105536e+16, 'train_loss': 0.14693062755584715, 'epoch': 5.0})"
      ]
     },
     "execution_count": 11,
     "metadata": {},
     "output_type": "execute_result"
    }
   ],
   "source": [
    "# 执行训练\n",
    "trainer.train()"
   ]
  },
  {
   "cell_type": "code",
   "execution_count": null,
   "metadata": {
    "id": "HBQKgtFM55YB"
   },
   "outputs": [],
   "source": [
    "# # 可选保存模型\n",
    "# SAVE_MODEL = False  # 改为 True 时保存\n",
    "# if SAVE_MODEL:\n",
    "#     trainer.save_model(model_save_path)\n",
    "#     tokenizer.save_pretrained(model_save_path)"
   ]
  },
  {
   "cell_type": "code",
   "execution_count": 12,
   "metadata": {
    "colab": {
     "base_uri": "https://localhost:8080/",
     "height": 71
    },
    "id": "uJlRFOph57_V",
    "outputId": "22a4f06e-41ac-4e62-8a02-8e8525c59738"
   },
   "outputs": [
    {
     "data": {
      "text/html": [],
      "text/plain": [
       "<IPython.core.display.HTML object>"
      ]
     },
     "metadata": {},
     "output_type": "display_data"
    },
    {
     "name": "stdout",
     "output_type": "stream",
     "text": [
      "\n",
      "Modelo BERT en IMDb - Métricas Completas:\n",
      "Precisión: 0.9290 | Recall: 0.9450 | Accuracy: 0.9364 | F1-Score: 0.9369\n"
     ]
    }
   ],
   "source": [
    "# 步骤12：模型评估（新增完整指标）\n",
    "test_preds = trainer.predict(test_dataset)\n",
    "bert_preds = np.argmax(test_preds.predictions, axis=1)\n",
    "\n",
    "precision = precision_score(test_labels, bert_preds)\n",
    "recall = recall_score(test_labels, bert_preds)\n",
    "accuracy = accuracy_score(test_labels, bert_preds)\n",
    "f1 = f1_score(test_labels, bert_preds)\n",
    "\n",
    "print(\"\\nModelo BERT en IMDb - Métricas Completas:\")\n",
    "print(f\"Precisión: {precision:.4f} | Recall: {recall:.4f} | Accuracy: {accuracy:.4f} | F1-Score: {f1:.4f}\")"
   ]
  }
 ],
 "metadata": {
  "accelerator": "GPU",
  "colab": {
   "gpuType": "T4",
   "provenance": []
  },
  "kernelspec": {
   "display_name": "Python 3",
   "name": "python3"
  },
  "language_info": {
   "name": "python"
  }
 },
 "nbformat": 4,
 "nbformat_minor": 0
}
