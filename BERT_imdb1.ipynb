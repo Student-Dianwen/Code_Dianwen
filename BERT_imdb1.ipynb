{
  "cells": [
    {
      "cell_type": "code",
      "execution_count": 1,
      "metadata": {
        "colab": {
          "base_uri": "https://localhost:8080/"
        },
        "id": "ZhQsox3S5zZu",
        "outputId": "3241f2c6-26cb-4024-8ca2-d0f48cf9e32f"
      },
      "outputs": [
        {
          "output_type": "stream",
          "name": "stdout",
          "text": [
            "Mounted at /content/drive\n"
          ]
        }
      ],
      "source": [
        "from google.colab import drive\n",
        "drive.mount('/content/drive')"
      ]
    },
    {
      "cell_type": "code",
      "execution_count": null,
      "metadata": {
        "colab": {
          "base_uri": "https://localhost:8080/"
        },
        "collapsed": true,
        "id": "ltHSGMNv59b0",
        "outputId": "e2fce8ac-9f14-49a5-f2e8-5bc61c06d290"
      },
      "outputs": [
        {
          "name": "stdout",
          "output_type": "stream",
          "text": [
            "Requirement already satisfied: transformers in /usr/local/lib/python3.11/dist-packages (4.50.2)\n",
            "Requirement already satisfied: datasets in /usr/local/lib/python3.11/dist-packages (3.5.0)\n",
            "Requirement already satisfied: scikit-learn in /usr/local/lib/python3.11/dist-packages (1.6.1)\n",
            "Requirement already satisfied: torch in /usr/local/lib/python3.11/dist-packages (2.6.0+cu124)\n",
            "Requirement already satisfied: filelock in /usr/local/lib/python3.11/dist-packages (from transformers) (3.18.0)\n",
            "Requirement already satisfied: huggingface-hub<1.0,>=0.26.0 in /usr/local/lib/python3.11/dist-packages (from transformers) (0.29.3)\n",
            "Requirement already satisfied: numpy>=1.17 in /usr/local/lib/python3.11/dist-packages (from transformers) (2.0.2)\n",
            "Requirement already satisfied: packaging>=20.0 in /usr/local/lib/python3.11/dist-packages (from transformers) (24.2)\n",
            "Requirement already satisfied: pyyaml>=5.1 in /usr/local/lib/python3.11/dist-packages (from transformers) (6.0.2)\n",
            "Requirement already satisfied: regex!=2019.12.17 in /usr/local/lib/python3.11/dist-packages (from transformers) (2024.11.6)\n",
            "Requirement already satisfied: requests in /usr/local/lib/python3.11/dist-packages (from transformers) (2.32.3)\n",
            "Requirement already satisfied: tokenizers<0.22,>=0.21 in /usr/local/lib/python3.11/dist-packages (from transformers) (0.21.1)\n",
            "Requirement already satisfied: safetensors>=0.4.3 in /usr/local/lib/python3.11/dist-packages (from transformers) (0.5.3)\n",
            "Requirement already satisfied: tqdm>=4.27 in /usr/local/lib/python3.11/dist-packages (from transformers) (4.67.1)\n",
            "Requirement already satisfied: pyarrow>=15.0.0 in /usr/local/lib/python3.11/dist-packages (from datasets) (18.1.0)\n",
            "Requirement already satisfied: dill<0.3.9,>=0.3.0 in /usr/local/lib/python3.11/dist-packages (from datasets) (0.3.8)\n",
            "Requirement already satisfied: pandas in /usr/local/lib/python3.11/dist-packages (from datasets) (2.2.2)\n",
            "Requirement already satisfied: xxhash in /usr/local/lib/python3.11/dist-packages (from datasets) (3.5.0)\n",
            "Requirement already satisfied: multiprocess<0.70.17 in /usr/local/lib/python3.11/dist-packages (from datasets) (0.70.16)\n",
            "Collecting fsspec<=2024.12.0,>=2023.1.0 (from fsspec[http]<=2024.12.0,>=2023.1.0->datasets)\n",
            "  Using cached fsspec-2024.12.0-py3-none-any.whl.metadata (11 kB)\n",
            "Requirement already satisfied: aiohttp in /usr/local/lib/python3.11/dist-packages (from datasets) (3.11.14)\n",
            "Requirement already satisfied: scipy>=1.6.0 in /usr/local/lib/python3.11/dist-packages (from scikit-learn) (1.14.1)\n",
            "Requirement already satisfied: joblib>=1.2.0 in /usr/local/lib/python3.11/dist-packages (from scikit-learn) (1.4.2)\n",
            "Requirement already satisfied: threadpoolctl>=3.1.0 in /usr/local/lib/python3.11/dist-packages (from scikit-learn) (3.6.0)\n",
            "Requirement already satisfied: typing-extensions>=4.10.0 in /usr/local/lib/python3.11/dist-packages (from torch) (4.13.0)\n",
            "Requirement already satisfied: networkx in /usr/local/lib/python3.11/dist-packages (from torch) (3.4.2)\n",
            "Requirement already satisfied: jinja2 in /usr/local/lib/python3.11/dist-packages (from torch) (3.1.6)\n",
            "Requirement already satisfied: nvidia-cuda-nvrtc-cu12==12.4.127 in /usr/local/lib/python3.11/dist-packages (from torch) (12.4.127)\n",
            "Requirement already satisfied: nvidia-cuda-runtime-cu12==12.4.127 in /usr/local/lib/python3.11/dist-packages (from torch) (12.4.127)\n",
            "Requirement already satisfied: nvidia-cuda-cupti-cu12==12.4.127 in /usr/local/lib/python3.11/dist-packages (from torch) (12.4.127)\n",
            "Requirement already satisfied: nvidia-cudnn-cu12==9.1.0.70 in /usr/local/lib/python3.11/dist-packages (from torch) (9.1.0.70)\n",
            "Requirement already satisfied: nvidia-cublas-cu12==12.4.5.8 in /usr/local/lib/python3.11/dist-packages (from torch) (12.4.5.8)\n",
            "Requirement already satisfied: nvidia-cufft-cu12==11.2.1.3 in /usr/local/lib/python3.11/dist-packages (from torch) (11.2.1.3)\n",
            "Requirement already satisfied: nvidia-curand-cu12==10.3.5.147 in /usr/local/lib/python3.11/dist-packages (from torch) (10.3.5.147)\n",
            "Requirement already satisfied: nvidia-cusolver-cu12==11.6.1.9 in /usr/local/lib/python3.11/dist-packages (from torch) (11.6.1.9)\n",
            "Requirement already satisfied: nvidia-cusparse-cu12==12.3.1.170 in /usr/local/lib/python3.11/dist-packages (from torch) (12.3.1.170)\n",
            "Requirement already satisfied: nvidia-cusparselt-cu12==0.6.2 in /usr/local/lib/python3.11/dist-packages (from torch) (0.6.2)\n",
            "Requirement already satisfied: nvidia-nccl-cu12==2.21.5 in /usr/local/lib/python3.11/dist-packages (from torch) (2.21.5)\n",
            "Requirement already satisfied: nvidia-nvtx-cu12==12.4.127 in /usr/local/lib/python3.11/dist-packages (from torch) (12.4.127)\n",
            "Requirement already satisfied: nvidia-nvjitlink-cu12==12.4.127 in /usr/local/lib/python3.11/dist-packages (from torch) (12.4.127)\n",
            "Requirement already satisfied: triton==3.2.0 in /usr/local/lib/python3.11/dist-packages (from torch) (3.2.0)\n",
            "Requirement already satisfied: sympy==1.13.1 in /usr/local/lib/python3.11/dist-packages (from torch) (1.13.1)\n",
            "Requirement already satisfied: mpmath<1.4,>=1.1.0 in /usr/local/lib/python3.11/dist-packages (from sympy==1.13.1->torch) (1.3.0)\n",
            "Requirement already satisfied: aiohappyeyeballs>=2.3.0 in /usr/local/lib/python3.11/dist-packages (from aiohttp->datasets) (2.6.1)\n",
            "Requirement already satisfied: aiosignal>=1.1.2 in /usr/local/lib/python3.11/dist-packages (from aiohttp->datasets) (1.3.2)\n",
            "Requirement already satisfied: attrs>=17.3.0 in /usr/local/lib/python3.11/dist-packages (from aiohttp->datasets) (25.3.0)\n",
            "Requirement already satisfied: frozenlist>=1.1.1 in /usr/local/lib/python3.11/dist-packages (from aiohttp->datasets) (1.5.0)\n",
            "Requirement already satisfied: multidict<7.0,>=4.5 in /usr/local/lib/python3.11/dist-packages (from aiohttp->datasets) (6.2.0)\n",
            "Requirement already satisfied: propcache>=0.2.0 in /usr/local/lib/python3.11/dist-packages (from aiohttp->datasets) (0.3.1)\n",
            "Requirement already satisfied: yarl<2.0,>=1.17.0 in /usr/local/lib/python3.11/dist-packages (from aiohttp->datasets) (1.18.3)\n",
            "Requirement already satisfied: charset-normalizer<4,>=2 in /usr/local/lib/python3.11/dist-packages (from requests->transformers) (3.4.1)\n",
            "Requirement already satisfied: idna<4,>=2.5 in /usr/local/lib/python3.11/dist-packages (from requests->transformers) (3.10)\n",
            "Requirement already satisfied: urllib3<3,>=1.21.1 in /usr/local/lib/python3.11/dist-packages (from requests->transformers) (2.3.0)\n",
            "Requirement already satisfied: certifi>=2017.4.17 in /usr/local/lib/python3.11/dist-packages (from requests->transformers) (2025.1.31)\n",
            "Requirement already satisfied: MarkupSafe>=2.0 in /usr/local/lib/python3.11/dist-packages (from jinja2->torch) (3.0.2)\n",
            "Requirement already satisfied: python-dateutil>=2.8.2 in /usr/local/lib/python3.11/dist-packages (from pandas->datasets) (2.8.2)\n",
            "Requirement already satisfied: pytz>=2020.1 in /usr/local/lib/python3.11/dist-packages (from pandas->datasets) (2025.2)\n",
            "Requirement already satisfied: tzdata>=2022.7 in /usr/local/lib/python3.11/dist-packages (from pandas->datasets) (2025.2)\n",
            "Requirement already satisfied: six>=1.5 in /usr/local/lib/python3.11/dist-packages (from python-dateutil>=2.8.2->pandas->datasets) (1.17.0)\n",
            "Using cached fsspec-2024.12.0-py3-none-any.whl (183 kB)\n",
            "Installing collected packages: fsspec\n",
            "\u001b[31mERROR: pip's dependency resolver does not currently take into account all the packages that are installed. This behaviour is the source of the following dependency conflicts.\n",
            "gcsfs 2025.3.0 requires fsspec==2025.3.0, but you have fsspec 2024.12.0 which is incompatible.\u001b[0m\u001b[31m\n",
            "\u001b[0mSuccessfully installed fsspec-2024.12.0\n"
          ]
        }
      ],
      "source": [
        "!pip install transformers datasets scikit-learn torch"
      ]
    },
    {
      "cell_type": "code",
      "execution_count": 2,
      "metadata": {
        "id": "quTfI5DS5xXw",
        "colab": {
          "base_uri": "https://localhost:8080/"
        },
        "outputId": "e4829aa3-7472-4054-c1de-218bbd7a5f41"
      },
      "outputs": [
        {
          "output_type": "stream",
          "name": "stdout",
          "text": [
            "Conjunto de entrenamiento: 20000 | Conjunto de validaci\u00f3n: 5000 | Conjunto de prueba: 25000\n"
          ]
        }
      ],
      "source": [
        "# \u6b65\u9aa43\uff1a\u5bfc\u5165\u6a21\u5757\n",
        "import os\n",
        "import numpy as np\n",
        "import torch\n",
        "from sklearn.metrics import accuracy_score, precision_score, recall_score, f1_score\n",
        "from transformers import BertTokenizer, BertForSequenceClassification, Trainer, TrainingArguments\n",
        "# os.environ['WANDB_API_KEY'] = '255fab36462f5587d825c69b9d5b53a852a2c4d3'  # \u66ff\u6362\u4e3a\u4f60\u7684\u5b9e\u9645 API \u5bc6\u94a5\n",
        "os.environ['WANDB_MODE'] = 'disabled'\n",
        "\n",
        "# \u6b65\u9aa44\uff1a\u914d\u7f6e\u8def\u5f84\n",
        "DRIVE_DATA_PATH = '/content/drive/MyDrive/Colab Notebooks/data'\n",
        "file_paths = {\n",
        "    'train': os.path.join(DRIVE_DATA_PATH, 'imdb_train.npz'),\n",
        "    'test': os.path.join(DRIVE_DATA_PATH, 'imdb_test.npz'),\n",
        "    'val': os.path.join(DRIVE_DATA_PATH, 'imdb_val.npz')\n",
        "}\n",
        "\n",
        "# \u6b65\u9aa45\uff1a\u52a0\u8f7d\u6570\u636e\n",
        "def load_npz(file_path):\n",
        "    data = np.load(file_path)\n",
        "    return data['x'], data['y']\n",
        "\n",
        "# \u52a0\u8f7d\u6570\u636e\u96c6\n",
        "train_texts, train_labels = load_npz(file_paths['train'])\n",
        "val_texts, val_labels = load_npz(file_paths['val'])\n",
        "test_texts, test_labels = load_npz(file_paths['test'])\n",
        "\n",
        "# \u65b0\u589e\uff1a\u6253\u5370\u6570\u636e\u96c6\u5927\u5c0f\n",
        "print(f\"Conjunto de entrenamiento: {len(train_texts)} | Conjunto de validaci\u00f3n: {len(val_texts)} | Conjunto de prueba: {len(test_texts)}\")"
      ]
    },
    {
      "cell_type": "code",
      "execution_count": 3,
      "metadata": {
        "collapsed": true,
        "id": "T6T9P2jQ_v8q",
        "colab": {
          "base_uri": "https://localhost:8080/",
          "height": 274,
          "referenced_widgets": [
            "a9ca7eb7cd994a1fa82cb9c86d7e5240",
            "dd74c2290f294168a894f42c324916d0",
            "0702c3658f654dd6b733f6522f754e06",
            "81d34491a2f3440fb3515d9745743d06",
            "4cb2bc5c961b4543bb9961ccd7321440",
            "9301d51c880f492383cb3866b1ed2f9c",
            "2fba793a3c704936a1effe0f0bc453b8",
            "547a4c5a3dd44b9e8db42b23c025ca51",
            "d1320388050c4f3d8302cccee23ef28a",
            "657a58686f4c4315a26d82f9698f0d47",
            "1b005610e0c44c6aacf51882a2159995",
            "1d98c66f7bd04ccaa3ac2b1d9a8a6803",
            "c58f8833fa824e5e9a0b67b8fc5c1522",
            "1a0ca73e256d4b39a20478b5b281f916",
            "c4a947577b164080833e12cf35185ef5",
            "994d10868b5542f9b1d98dedf5869be7",
            "fc578a647f844e508fe8b7a1014dcd3d",
            "ca67466ff3ff40ad948d512eeedf5cf2",
            "16dd28a327d84616b1a1a9a7f19264f7",
            "0869ecae65e64200839b2de3098161cd",
            "0b922cb7cf984903afb7fb15a3fcbc74",
            "55bd467cd7154ce9a9f4581d75dd096b",
            "c07aa60d92444d30b882a65ac14af361",
            "e36fcdfb56204fbeb2aebd58eeec6114",
            "a59539f90b0441dfa1263da135da1844",
            "635ea95aeaf847caaa7191fa597cdde8",
            "2cf222079ab847dd85f1e5bd62505894",
            "5aae8d225b6a4685b1658ecc1a1d573f",
            "20747692c43145d4a80261d5208d8543",
            "4595aa2ed30741bcbd722c1de91f9aa5",
            "856f40139a0249468cefab19cb6847fb",
            "3c73a0b7fd0b4602891a7f37fbab5c96",
            "8cafe4380be4498fb0c82bb5f52a2fbd",
            "b1a1034e20a249b5b5bc5a814306bca2",
            "5d77dd9dea734a9abaa6a27fd08431b2",
            "c4269b4250464dbf91ec662701acc32e",
            "e0d0bfa25ea947a186865b241fbca02d",
            "c5b549fb0bcb4b8d9bd477f8622e3a14",
            "6e60d62452df40609cd2c13227a10bc1",
            "cedf25d78a89439e9d1580f49bac2b65",
            "bcb7cd1ee8884db8aabea54d1837a3a4",
            "6af90feeb36849af92d620a0bc73017d",
            "6ecd1682d04849998d1f43395254b55c",
            "34a352dbe1c541faaee358470024bf95"
          ]
        },
        "outputId": "876b3cf8-4cb0-401a-8a91-49b1c5d6a595"
      },
      "outputs": [
        {
          "output_type": "stream",
          "name": "stderr",
          "text": [
            "/usr/local/lib/python3.11/dist-packages/huggingface_hub/utils/_auth.py:94: UserWarning: \n",
            "The secret `HF_TOKEN` does not exist in your Colab secrets.\n",
            "To authenticate with the Hugging Face Hub, create a token in your settings tab (https://huggingface.co/settings/tokens), set it as secret in your Google Colab and restart your session.\n",
            "You will be able to reuse this secret in all of your notebooks.\n",
            "Please note that authentication is recommended but still optional to access public models or datasets.\n",
            "  warnings.warn(\n"
          ]
        },
        {
          "output_type": "display_data",
          "data": {
            "text/plain": [
              "tokenizer_config.json:   0%|          | 0.00/48.0 [00:00<?, ?B/s]"
            ],
            "application/vnd.jupyter.widget-view+json": {
              "version_major": 2,
              "version_minor": 0,
              "model_id": "a9ca7eb7cd994a1fa82cb9c86d7e5240"
            }
          },
          "metadata": {}
        },
        {
          "output_type": "display_data",
          "data": {
            "text/plain": [
              "vocab.txt:   0%|          | 0.00/232k [00:00<?, ?B/s]"
            ],
            "application/vnd.jupyter.widget-view+json": {
              "version_major": 2,
              "version_minor": 0,
              "model_id": "1d98c66f7bd04ccaa3ac2b1d9a8a6803"
            }
          },
          "metadata": {}
        },
        {
          "output_type": "display_data",
          "data": {
            "text/plain": [
              "tokenizer.json:   0%|          | 0.00/466k [00:00<?, ?B/s]"
            ],
            "application/vnd.jupyter.widget-view+json": {
              "version_major": 2,
              "version_minor": 0,
              "model_id": "c07aa60d92444d30b882a65ac14af361"
            }
          },
          "metadata": {}
        },
        {
          "output_type": "display_data",
          "data": {
            "text/plain": [
              "config.json:   0%|          | 0.00/570 [00:00<?, ?B/s]"
            ],
            "application/vnd.jupyter.widget-view+json": {
              "version_major": 2,
              "version_minor": 0,
              "model_id": "b1a1034e20a249b5b5bc5a814306bca2"
            }
          },
          "metadata": {}
        }
      ],
      "source": [
        "# \u6b65\u9aa46\uff1a\u6570\u636e\u9884\u5904\u7406\uff08\u4fee\u590d\u683c\u5f0f\u95ee\u9898\uff09\n",
        "tokenizer = BertTokenizer.from_pretrained('bert-base-uncased')\n",
        "\n",
        "def preprocess(texts, labels):\n",
        "    texts = [str(text) for text in texts]  # \u786e\u4fdd\u6587\u672c\u662f\u5b57\u7b26\u4e32\n",
        "    encodings = tokenizer(\n",
        "        texts,\n",
        "        padding=True,\n",
        "        truncation=True,\n",
        "        max_length=512,\n",
        "        return_tensors='pt'\n",
        "    )\n",
        "    # \u5c06\u6807\u7b7e\u8f6c\u6362\u4e3a\u5f20\u91cf\u5e76\u5408\u5e76\u5230encodings\u5b57\u5178\u4e2d\n",
        "    encodings['labels'] = torch.tensor(labels)\n",
        "    return encodings\n",
        "\n",
        "# \u8f6c\u6362\u4e3aPyTorch Dataset\n",
        "class IMDbDataset(torch.utils.data.Dataset):\n",
        "    def __init__(self, texts, labels):\n",
        "        self.encodings = preprocess(texts, labels)\n",
        "\n",
        "    def __getitem__(self, idx):\n",
        "        # \u8fd4\u56de\u5355\u4e2a\u6837\u672c\u7684\u5b57\u5178\u683c\u5f0f\n",
        "        return {\n",
        "            'input_ids': self.encodings['input_ids'][idx],\n",
        "            'attention_mask': self.encodings['attention_mask'][idx],\n",
        "            'labels': self.encodings['labels'][idx]\n",
        "        }\n",
        "\n",
        "    def __len__(self):\n",
        "        return len(self.encodings['labels'])\n",
        "\n",
        "# \u91cd\u65b0\u521d\u59cb\u5316\u6570\u636e\u96c6\n",
        "train_dataset = IMDbDataset(train_texts, train_labels)\n",
        "val_dataset = IMDbDataset(val_texts, val_labels)\n",
        "test_dataset = IMDbDataset(test_texts, test_labels)"
      ]
    },
    {
      "cell_type": "code",
      "execution_count": 4,
      "metadata": {
        "id": "kbqCQ2db6Yfj",
        "colab": {
          "base_uri": "https://localhost:8080/",
          "height": 178,
          "referenced_widgets": [
            "6b42a8671d304751a9e2f62c0897e888",
            "d947cefd65f04b6fae1e4304c08869ca",
            "f9b023bfa9ed4effb54c9d0196183383",
            "89ebcf16dc6a405eac3ebb8cf28f34eb",
            "3773a1fc147f4c09a91c85edecd82fa5",
            "85309dd71dcb48a48057c426ab0c1278",
            "73c95fd3fc3d485fa4ec4d3c082f65f3",
            "5c2d05dc89a5481fa7b574aee1113a37",
            "13207cfd05e144fab2aea8fbce246643",
            "896f5efef2c14d97a87d7249ae79fe62",
            "4678ad7c447d48ff88d9e63cff38fb94"
          ]
        },
        "outputId": "dfc8467b-2a39-4f29-aa5a-474493795682"
      },
      "outputs": [
        {
          "output_type": "stream",
          "name": "stdout",
          "text": [
            "Inicializando un nuevo modelo...\n"
          ]
        },
        {
          "output_type": "stream",
          "name": "stderr",
          "text": [
            "Xet Storage is enabled for this repo, but the 'hf_xet' package is not installed. Falling back to regular HTTP download. For better performance, install the package with: `pip install huggingface_hub[hf_xet]` or `pip install hf_xet`\n",
            "WARNING:huggingface_hub.file_download:Xet Storage is enabled for this repo, but the 'hf_xet' package is not installed. Falling back to regular HTTP download. For better performance, install the package with: `pip install huggingface_hub[hf_xet]` or `pip install hf_xet`\n"
          ]
        },
        {
          "output_type": "display_data",
          "data": {
            "text/plain": [
              "model.safetensors:   0%|          | 0.00/440M [00:00<?, ?B/s]"
            ],
            "application/vnd.jupyter.widget-view+json": {
              "version_major": 2,
              "version_minor": 0,
              "model_id": "6b42a8671d304751a9e2f62c0897e888"
            }
          },
          "metadata": {}
        },
        {
          "output_type": "stream",
          "name": "stderr",
          "text": [
            "Some weights of BertForSequenceClassification were not initialized from the model checkpoint at bert-base-uncased and are newly initialized: ['classifier.bias', 'classifier.weight']\n",
            "You should probably TRAIN this model on a down-stream task to be able to use it for predictions and inference.\n"
          ]
        },
        {
          "output_type": "stream",
          "name": "stdout",
          "text": [
            "Modelo cargado en: cuda\n"
          ]
        }
      ],
      "source": [
        "# \u6b65\u9aa47\uff1a\u6a21\u578b\u914d\u7f6e\n",
        "# model_save_path = \"/content/drive/MyDrive/Colab Notebooks/model/imdb\"\n",
        "# os.makedirs(model_save_path, exist_ok=True)\n",
        "\n",
        "\n",
        "# \u81ea\u52a8\u68c0\u6d4b\u8bbe\u5907\uff08\u4f18\u5148GPU\uff0c\u5426\u5219CPU\uff09\n",
        "device = torch.device(\"cuda\" if torch.cuda.is_available() else \"cpu\")\n",
        "\n",
        "# \u521d\u59cb\u5316\u65b0\u6a21\u578b\uff08\u6bcf\u6b21\u8fd0\u884c\u90fd\u4f1a\u4ece\u5934\u8f7d\u5165\u9884\u8bad\u7ec3\u6743\u91cd\uff09\n",
        "print(\"Inicializando un nuevo modelo...\")\n",
        "model = BertForSequenceClassification.from_pretrained(\n",
        "    'bert-base-uncased',\n",
        "    num_labels=2,\n",
        "    attention_probs_dropout_prob=0.1  # \u4f60\u53ef\u4ee5\u8c03\u6574\u8fd9\u4e2a Dropout \u503c\n",
        ").to(device)\n",
        "\n",
        "# \u663e\u5f0f\u9a8c\u8bc1\u8bbe\u5907\n",
        "print(f\"Modelo cargado en: {device}\")"
      ]
    },
    {
      "cell_type": "code",
      "execution_count": 5,
      "metadata": {
        "id": "GJt9iyjF6cC0"
      },
      "outputs": [],
      "source": [
        "# \u6b65\u9aa48\uff1a\u8bad\u7ec3\u914d\u7f6e\n",
        "training_args = TrainingArguments(\n",
        "    output_dir=\"/content/drive/MyDrive/Colab Notebooks/data\",\n",
        "    eval_strategy=\"epoch\",\n",
        "    learning_rate=2e-5,\n",
        "    per_device_train_batch_size=16,\n",
        "    per_device_eval_batch_size=64,\n",
        "    num_train_epochs=5,\n",
        "    weight_decay=0.01,\n",
        "    save_strategy=\"epoch\",\n",
        "    load_best_model_at_end=True,\n",
        "    metric_for_best_model=\"f1\",\n",
        "    save_total_limit=3,\n",
        "    logging_dir=os.path.join(DRIVE_DATA_PATH, 'logs'),\n",
        "    logging_steps=100\n",
        ")\n",
        "\n",
        "# \u6b65\u9aa49\uff1a\u5b9a\u4e49\u8bc4\u4f30\u6307\u6807\uff08\u65b0\u589e\u5b8c\u6574\u6307\u6807\uff09\n",
        "def compute_metrics(pred):\n",
        "    labels = pred.label_ids\n",
        "    preds = pred.predictions.argmax(-1)\n",
        "    precision = precision_score(labels, preds)\n",
        "    recall = recall_score(labels, preds)\n",
        "    f1 = f1_score(labels, preds)\n",
        "    accuracy = accuracy_score(labels, preds)\n",
        "    return {'accuracy': accuracy, 'precision': precision, 'recall': recall, 'f1': f1}"
      ]
    },
    {
      "cell_type": "code",
      "execution_count": 6,
      "metadata": {
        "id": "PRxKrY7p5yQk"
      },
      "outputs": [],
      "source": [
        "# \u6b65\u9aa410\uff1a\u521d\u59cb\u5316Trainer\n",
        "trainer = Trainer(\n",
        "    model=model,\n",
        "    args=training_args,\n",
        "    train_dataset=train_dataset,\n",
        "    eval_dataset=val_dataset,\n",
        "    compute_metrics=compute_metrics\n",
        ")"
      ]
    },
    {
      "cell_type": "code",
      "execution_count": 7,
      "metadata": {
        "id": "O7offBLN51OK",
        "colab": {
          "base_uri": "https://localhost:8080/",
          "height": 307
        },
        "outputId": "5acfc16c-fcee-4b3d-ca27-574d28e73cb7"
      },
      "outputs": [
        {
          "output_type": "stream",
          "name": "stderr",
          "text": [
            "\u001b[34m\u001b[1mwandb\u001b[0m: \u001b[33mWARNING\u001b[0m The `run_name` is currently set to the same value as `TrainingArguments.output_dir`. If this was not intended, please specify a different run name by setting the `TrainingArguments.run_name` parameter.\n"
          ]
        },
        {
          "output_type": "display_data",
          "data": {
            "text/plain": [
              "<IPython.core.display.HTML object>"
            ],
            "text/html": [
              "\n",
              "    <div>\n",
              "      \n",
              "      <progress value='6250' max='6250' style='width:300px; height:20px; vertical-align: middle;'></progress>\n",
              "      [6250/6250 2:40:24, Epoch 5/5]\n",
              "    </div>\n",
              "    <table border=\"1\" class=\"dataframe\">\n",
              "  <thead>\n",
              " <tr style=\"text-align: left;\">\n",
              "      <th>Epoch</th>\n",
              "      <th>Training Loss</th>\n",
              "      <th>Validation Loss</th>\n",
              "      <th>Accuracy</th>\n",
              "      <th>Precision</th>\n",
              "      <th>Recall</th>\n",
              "      <th>F1</th>\n",
              "    </tr>\n",
              "  </thead>\n",
              "  <tbody>\n",
              "    <tr>\n",
              "      <td>1</td>\n",
              "      <td>0.229200</td>\n",
              "      <td>0.221568</td>\n",
              "      <td>0.920000</td>\n",
              "      <td>0.895331</td>\n",
              "      <td>0.951200</td>\n",
              "      <td>0.922420</td>\n",
              "    </tr>\n",
              "    <tr>\n",
              "      <td>2</td>\n",
              "      <td>0.150100</td>\n",
              "      <td>0.237724</td>\n",
              "      <td>0.923400</td>\n",
              "      <td>0.895405</td>\n",
              "      <td>0.958800</td>\n",
              "      <td>0.926019</td>\n",
              "    </tr>\n",
              "    <tr>\n",
              "      <td>3</td>\n",
              "      <td>0.054400</td>\n",
              "      <td>0.346387</td>\n",
              "      <td>0.934200</td>\n",
              "      <td>0.942880</td>\n",
              "      <td>0.924400</td>\n",
              "      <td>0.933549</td>\n",
              "    </tr>\n",
              "    <tr>\n",
              "      <td>4</td>\n",
              "      <td>0.042600</td>\n",
              "      <td>0.338154</td>\n",
              "      <td>0.937200</td>\n",
              "      <td>0.937550</td>\n",
              "      <td>0.936800</td>\n",
              "      <td>0.937175</td>\n",
              "    </tr>\n",
              "    <tr>\n",
              "      <td>5</td>\n",
              "      <td>0.022900</td>\n",
              "      <td>0.389999</td>\n",
              "      <td>0.936200</td>\n",
              "      <td>0.934289</td>\n",
              "      <td>0.938400</td>\n",
              "      <td>0.936340</td>\n",
              "    </tr>\n",
              "  </tbody>\n",
              "</table><p>"
            ]
          },
          "metadata": {}
        },
        {
          "output_type": "execute_result",
          "data": {
            "text/plain": [
              "TrainOutput(global_step=6250, training_loss=0.10633905841350555, metrics={'train_runtime': 9627.558, 'train_samples_per_second': 10.387, 'train_steps_per_second': 0.649, 'total_flos': 2.6311105536e+16, 'train_loss': 0.10633905841350555, 'epoch': 5.0})"
            ]
          },
          "metadata": {},
          "execution_count": 7
        }
      ],
      "source": [
        "# \u6267\u884c\u8bad\u7ec3\n",
        "trainer.train()"
      ]
    },
    {
      "cell_type": "code",
      "execution_count": null,
      "metadata": {
        "id": "HBQKgtFM55YB"
      },
      "outputs": [],
      "source": [
        "# # \u53ef\u9009\u4fdd\u5b58\u6a21\u578b\n",
        "# SAVE_MODEL = False  # \u6539\u4e3a True \u65f6\u4fdd\u5b58\n",
        "# if SAVE_MODEL:\n",
        "#     trainer.save_model(model_save_path)\n",
        "#     tokenizer.save_pretrained(model_save_path)"
      ]
    },
    {
      "cell_type": "code",
      "execution_count": 8,
      "metadata": {
        "id": "uJlRFOph57_V",
        "colab": {
          "base_uri": "https://localhost:8080/",
          "height": 71
        },
        "outputId": "d4b8d525-804e-404e-e586-7856eceb6bea"
      },
      "outputs": [
        {
          "output_type": "display_data",
          "data": {
            "text/plain": [
              "<IPython.core.display.HTML object>"
            ],
            "text/html": []
          },
          "metadata": {}
        },
        {
          "output_type": "stream",
          "name": "stdout",
          "text": [
            "\n",
            "Modelo BERT en IMDb - M\u00e9tricas Completas:\n",
            "Precisi\u00f3n: 0.9348 | Recall: 0.9395 | Accuracy: 0.9370 | F1-Score: 0.9372\n"
          ]
        }
      ],
      "source": [
        "# \u6b65\u9aa412\uff1a\u6a21\u578b\u8bc4\u4f30\uff08\u65b0\u589e\u5b8c\u6574\u6307\u6807\uff09\n",
        "test_preds = trainer.predict(test_dataset)\n",
        "bert_preds = np.argmax(test_preds.predictions, axis=1)\n",
        "\n",
        "precision = precision_score(test_labels, bert_preds)\n",
        "recall = recall_score(test_labels, bert_preds)\n",
        "accuracy = accuracy_score(test_labels, bert_preds)\n",
        "f1 = f1_score(test_labels, bert_preds)\n",
        "\n",
        "print(\"\\nModelo BERT en IMDb - M\u00e9tricas Completas:\")\n",
        "print(f\"Precisi\u00f3n: {precision:.4f} | Recall: {recall:.4f} | Accuracy: {accuracy:.4f} | F1-Score: {f1:.4f}\")"
      ]
    }
  ],
  "metadata": {
    "colab": {
      "provenance": []
    },
    "kernelspec": {
      "display_name": "Python 3",
      "name": "python3"
    },
    "language_info": {
      "name": "python"
    }
  },
  "nbformat": 4,
  "nbformat_minor": 0
}