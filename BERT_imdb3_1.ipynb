{
 "cells": [
  {
   "cell_type": "code",
   "execution_count": 2,
   "metadata": {
    "colab": {
     "base_uri": "https://localhost:8080/"
    },
    "id": "ZhQsox3S5zZu",
    "outputId": "28381acf-be36-4eb3-950a-f54905c552a3"
   },
   "outputs": [
    {
     "name": "stdout",
     "output_type": "stream",
     "text": [
      "Mounted at /content/drive\n"
     ]
    }
   ],
   "source": [
    "from google.colab import drive\n",
    "drive.mount('/content/drive')"
   ]
  },
  {
   "cell_type": "code",
   "execution_count": null,
   "metadata": {
    "colab": {
     "base_uri": "https://localhost:8080/"
    },
    "collapsed": true,
    "id": "ltHSGMNv59b0",
    "outputId": "e2fce8ac-9f14-49a5-f2e8-5bc61c06d290"
   },
   "outputs": [
    {
     "name": "stdout",
     "output_type": "stream",
     "text": [
      "Requirement already satisfied: transformers in /usr/local/lib/python3.11/dist-packages (4.50.2)\n",
      "Requirement already satisfied: datasets in /usr/local/lib/python3.11/dist-packages (3.5.0)\n",
      "Requirement already satisfied: scikit-learn in /usr/local/lib/python3.11/dist-packages (1.6.1)\n",
      "Requirement already satisfied: torch in /usr/local/lib/python3.11/dist-packages (2.6.0+cu124)\n",
      "Requirement already satisfied: filelock in /usr/local/lib/python3.11/dist-packages (from transformers) (3.18.0)\n",
      "Requirement already satisfied: huggingface-hub<1.0,>=0.26.0 in /usr/local/lib/python3.11/dist-packages (from transformers) (0.29.3)\n",
      "Requirement already satisfied: numpy>=1.17 in /usr/local/lib/python3.11/dist-packages (from transformers) (2.0.2)\n",
      "Requirement already satisfied: packaging>=20.0 in /usr/local/lib/python3.11/dist-packages (from transformers) (24.2)\n",
      "Requirement already satisfied: pyyaml>=5.1 in /usr/local/lib/python3.11/dist-packages (from transformers) (6.0.2)\n",
      "Requirement already satisfied: regex!=2019.12.17 in /usr/local/lib/python3.11/dist-packages (from transformers) (2024.11.6)\n",
      "Requirement already satisfied: requests in /usr/local/lib/python3.11/dist-packages (from transformers) (2.32.3)\n",
      "Requirement already satisfied: tokenizers<0.22,>=0.21 in /usr/local/lib/python3.11/dist-packages (from transformers) (0.21.1)\n",
      "Requirement already satisfied: safetensors>=0.4.3 in /usr/local/lib/python3.11/dist-packages (from transformers) (0.5.3)\n",
      "Requirement already satisfied: tqdm>=4.27 in /usr/local/lib/python3.11/dist-packages (from transformers) (4.67.1)\n",
      "Requirement already satisfied: pyarrow>=15.0.0 in /usr/local/lib/python3.11/dist-packages (from datasets) (18.1.0)\n",
      "Requirement already satisfied: dill<0.3.9,>=0.3.0 in /usr/local/lib/python3.11/dist-packages (from datasets) (0.3.8)\n",
      "Requirement already satisfied: pandas in /usr/local/lib/python3.11/dist-packages (from datasets) (2.2.2)\n",
      "Requirement already satisfied: xxhash in /usr/local/lib/python3.11/dist-packages (from datasets) (3.5.0)\n",
      "Requirement already satisfied: multiprocess<0.70.17 in /usr/local/lib/python3.11/dist-packages (from datasets) (0.70.16)\n",
      "Collecting fsspec<=2024.12.0,>=2023.1.0 (from fsspec[http]<=2024.12.0,>=2023.1.0->datasets)\n",
      "  Using cached fsspec-2024.12.0-py3-none-any.whl.metadata (11 kB)\n",
      "Requirement already satisfied: aiohttp in /usr/local/lib/python3.11/dist-packages (from datasets) (3.11.14)\n",
      "Requirement already satisfied: scipy>=1.6.0 in /usr/local/lib/python3.11/dist-packages (from scikit-learn) (1.14.1)\n",
      "Requirement already satisfied: joblib>=1.2.0 in /usr/local/lib/python3.11/dist-packages (from scikit-learn) (1.4.2)\n",
      "Requirement already satisfied: threadpoolctl>=3.1.0 in /usr/local/lib/python3.11/dist-packages (from scikit-learn) (3.6.0)\n",
      "Requirement already satisfied: typing-extensions>=4.10.0 in /usr/local/lib/python3.11/dist-packages (from torch) (4.13.0)\n",
      "Requirement already satisfied: networkx in /usr/local/lib/python3.11/dist-packages (from torch) (3.4.2)\n",
      "Requirement already satisfied: jinja2 in /usr/local/lib/python3.11/dist-packages (from torch) (3.1.6)\n",
      "Requirement already satisfied: nvidia-cuda-nvrtc-cu12==12.4.127 in /usr/local/lib/python3.11/dist-packages (from torch) (12.4.127)\n",
      "Requirement already satisfied: nvidia-cuda-runtime-cu12==12.4.127 in /usr/local/lib/python3.11/dist-packages (from torch) (12.4.127)\n",
      "Requirement already satisfied: nvidia-cuda-cupti-cu12==12.4.127 in /usr/local/lib/python3.11/dist-packages (from torch) (12.4.127)\n",
      "Requirement already satisfied: nvidia-cudnn-cu12==9.1.0.70 in /usr/local/lib/python3.11/dist-packages (from torch) (9.1.0.70)\n",
      "Requirement already satisfied: nvidia-cublas-cu12==12.4.5.8 in /usr/local/lib/python3.11/dist-packages (from torch) (12.4.5.8)\n",
      "Requirement already satisfied: nvidia-cufft-cu12==11.2.1.3 in /usr/local/lib/python3.11/dist-packages (from torch) (11.2.1.3)\n",
      "Requirement already satisfied: nvidia-curand-cu12==10.3.5.147 in /usr/local/lib/python3.11/dist-packages (from torch) (10.3.5.147)\n",
      "Requirement already satisfied: nvidia-cusolver-cu12==11.6.1.9 in /usr/local/lib/python3.11/dist-packages (from torch) (11.6.1.9)\n",
      "Requirement already satisfied: nvidia-cusparse-cu12==12.3.1.170 in /usr/local/lib/python3.11/dist-packages (from torch) (12.3.1.170)\n",
      "Requirement already satisfied: nvidia-cusparselt-cu12==0.6.2 in /usr/local/lib/python3.11/dist-packages (from torch) (0.6.2)\n",
      "Requirement already satisfied: nvidia-nccl-cu12==2.21.5 in /usr/local/lib/python3.11/dist-packages (from torch) (2.21.5)\n",
      "Requirement already satisfied: nvidia-nvtx-cu12==12.4.127 in /usr/local/lib/python3.11/dist-packages (from torch) (12.4.127)\n",
      "Requirement already satisfied: nvidia-nvjitlink-cu12==12.4.127 in /usr/local/lib/python3.11/dist-packages (from torch) (12.4.127)\n",
      "Requirement already satisfied: triton==3.2.0 in /usr/local/lib/python3.11/dist-packages (from torch) (3.2.0)\n",
      "Requirement already satisfied: sympy==1.13.1 in /usr/local/lib/python3.11/dist-packages (from torch) (1.13.1)\n",
      "Requirement already satisfied: mpmath<1.4,>=1.1.0 in /usr/local/lib/python3.11/dist-packages (from sympy==1.13.1->torch) (1.3.0)\n",
      "Requirement already satisfied: aiohappyeyeballs>=2.3.0 in /usr/local/lib/python3.11/dist-packages (from aiohttp->datasets) (2.6.1)\n",
      "Requirement already satisfied: aiosignal>=1.1.2 in /usr/local/lib/python3.11/dist-packages (from aiohttp->datasets) (1.3.2)\n",
      "Requirement already satisfied: attrs>=17.3.0 in /usr/local/lib/python3.11/dist-packages (from aiohttp->datasets) (25.3.0)\n",
      "Requirement already satisfied: frozenlist>=1.1.1 in /usr/local/lib/python3.11/dist-packages (from aiohttp->datasets) (1.5.0)\n",
      "Requirement already satisfied: multidict<7.0,>=4.5 in /usr/local/lib/python3.11/dist-packages (from aiohttp->datasets) (6.2.0)\n",
      "Requirement already satisfied: propcache>=0.2.0 in /usr/local/lib/python3.11/dist-packages (from aiohttp->datasets) (0.3.1)\n",
      "Requirement already satisfied: yarl<2.0,>=1.17.0 in /usr/local/lib/python3.11/dist-packages (from aiohttp->datasets) (1.18.3)\n",
      "Requirement already satisfied: charset-normalizer<4,>=2 in /usr/local/lib/python3.11/dist-packages (from requests->transformers) (3.4.1)\n",
      "Requirement already satisfied: idna<4,>=2.5 in /usr/local/lib/python3.11/dist-packages (from requests->transformers) (3.10)\n",
      "Requirement already satisfied: urllib3<3,>=1.21.1 in /usr/local/lib/python3.11/dist-packages (from requests->transformers) (2.3.0)\n",
      "Requirement already satisfied: certifi>=2017.4.17 in /usr/local/lib/python3.11/dist-packages (from requests->transformers) (2025.1.31)\n",
      "Requirement already satisfied: MarkupSafe>=2.0 in /usr/local/lib/python3.11/dist-packages (from jinja2->torch) (3.0.2)\n",
      "Requirement already satisfied: python-dateutil>=2.8.2 in /usr/local/lib/python3.11/dist-packages (from pandas->datasets) (2.8.2)\n",
      "Requirement already satisfied: pytz>=2020.1 in /usr/local/lib/python3.11/dist-packages (from pandas->datasets) (2025.2)\n",
      "Requirement already satisfied: tzdata>=2022.7 in /usr/local/lib/python3.11/dist-packages (from pandas->datasets) (2025.2)\n",
      "Requirement already satisfied: six>=1.5 in /usr/local/lib/python3.11/dist-packages (from python-dateutil>=2.8.2->pandas->datasets) (1.17.0)\n",
      "Using cached fsspec-2024.12.0-py3-none-any.whl (183 kB)\n",
      "Installing collected packages: fsspec\n",
      "\u001b[31mERROR: pip's dependency resolver does not currently take into account all the packages that are installed. This behaviour is the source of the following dependency conflicts.\n",
      "gcsfs 2025.3.0 requires fsspec==2025.3.0, but you have fsspec 2024.12.0 which is incompatible.\u001b[0m\u001b[31m\n",
      "\u001b[0mSuccessfully installed fsspec-2024.12.0\n"
     ]
    }
   ],
   "source": [
    "!pip install transformers datasets scikit-learn torch"
   ]
  },
  {
   "cell_type": "code",
   "execution_count": 3,
   "metadata": {
    "colab": {
     "base_uri": "https://localhost:8080/"
    },
    "id": "quTfI5DS5xXw",
    "outputId": "7138dc12-704f-46e6-df81-b2f66cc98914"
   },
   "outputs": [
    {
     "name": "stdout",
     "output_type": "stream",
     "text": [
      "Conjunto de entrenamiento: 20000 | Conjunto de validación: 5000 | Conjunto de prueba: 25000\n"
     ]
    }
   ],
   "source": [
    "# 步骤3：导入模块\n",
    "import os\n",
    "import numpy as np\n",
    "import torch\n",
    "from sklearn.metrics import accuracy_score, precision_score, recall_score, f1_score\n",
    "from transformers import BertTokenizer, BertForSequenceClassification, Trainer, TrainingArguments\n",
    "# os.environ['WANDB_API_KEY'] = '255fab36462f5587d825c69b9d5b53a852a2c4d3'  # 替换为你的实际 API 密钥\n",
    "os.environ['WANDB_MODE'] = 'disabled'\n",
    "\n",
    "# 步骤4：配置路径\n",
    "DRIVE_DATA_PATH = '/content/drive/MyDrive/Colab Notebooks/data'\n",
    "file_paths = {\n",
    "    'train': os.path.join(DRIVE_DATA_PATH, 'imdb_train.npz'),\n",
    "    'test': os.path.join(DRIVE_DATA_PATH, 'imdb_test.npz'),\n",
    "    'val': os.path.join(DRIVE_DATA_PATH, 'imdb_val.npz')\n",
    "}\n",
    "\n",
    "# 步骤5：加载数据\n",
    "def load_npz(file_path):\n",
    "    data = np.load(file_path)\n",
    "    return data['x'], data['y']\n",
    "\n",
    "# 加载数据集\n",
    "train_texts, train_labels = load_npz(file_paths['train'])\n",
    "val_texts, val_labels = load_npz(file_paths['val'])\n",
    "test_texts, test_labels = load_npz(file_paths['test'])\n",
    "\n",
    "# 新增：打印数据集大小\n",
    "print(f\"Conjunto de entrenamiento: {len(train_texts)} | Conjunto de validación: {len(val_texts)} | Conjunto de prueba: {len(test_texts)}\")"
   ]
  },
  {
   "cell_type": "code",
   "execution_count": 4,
   "metadata": {
    "colab": {
     "base_uri": "https://localhost:8080/",
     "height": 274,
     "referenced_widgets": [
      "373914721f354d3f8c60be65d18f934b",
      "3630b0a1bc76498ea5df8993abe0586a",
      "9f076a77166f4cf3839d85a56516f82e",
      "6bec6211f09b4cdfb34c651267f1bd12",
      "0b28afb8db164d4dbd9c01aaa2b196ed",
      "f5b1b70958fe4745817e17b8ab04f3c4",
      "8c193dbb370b477da97ae472d1e5ac1b",
      "dc0a539c80964d96a40e9f467b8adad7",
      "8123947d4e004e939935f1bf4e7337a6",
      "e754edbc06db4de8a3f57fcd2d06ffea",
      "11b6c54eee3a4c4ca8682bccdb8cddab",
      "bb72d4a321e649298980c884ff1478c2",
      "0c9888cece624888a4f2fa1e3c16fb89",
      "4d6f4cc13dab45cc98aa2b414e4eb9ba",
      "222ba1b969a945ce85627092d795da4e",
      "764e93a78f484981898f35403d81726e",
      "455a3bc0734e4a368bab802209609e7e",
      "1603d99c6bd648708332e828b31aad34",
      "b22184dd8efa494183c4d58f4bc95217",
      "30e272a4a5bf4bb284349bd8c034c1be",
      "d2016c1e10eb491ba0915c2587285f53",
      "d0dc0ab7d25646388f3e9cd2a9849aff",
      "35472b66ffc64725a73d6898ceaedebd",
      "818aabb939114d80b8412b5e651fc0a5",
      "e4055a3548584dbd86829cb2a523baca",
      "d83a2174849344fd9b185d5eaf00a8a1",
      "57e34454a3d64682bd93614c8c35fa50",
      "e052c96d553a4c7da76478573cc9b770",
      "abd304bdd3164f27aa9f8e3d82b87c7d",
      "1045264002d4434587ae6b6d1bfb74e6",
      "b9eb7e3438fd471292039ccf36484a0b",
      "b2d311ac85f244e592aa64d3852f9f29",
      "b1f16bb7624b420496c5d21b781531ce",
      "1ea3bc99800143689b6d9317567f55cf",
      "6733055c354b4396ab6c3267962cd7e5",
      "465eb6bae48b4a7b9adfcacecae43644",
      "309220c08664471e97cff1fe77082987",
      "3da1935ee5504b4b8f18ad9ae747d468",
      "0e3028ecb3a54501942eca7bcb73402e",
      "2ca5fe9e1e8e4e718b0fd5d4d63fc8af",
      "81d664c170bb4259a3a398955ad23317",
      "d8270677bb4b4cb2ad646d76a249d99f",
      "60147cc8259e46538235a062960f9a54",
      "dfc51d11325847e78a7784e80d8a3234"
     ]
    },
    "collapsed": true,
    "id": "T6T9P2jQ_v8q",
    "outputId": "82face34-a62b-46da-da67-bed188831f84"
   },
   "outputs": [
    {
     "name": "stderr",
     "output_type": "stream",
     "text": [
      "/usr/local/lib/python3.11/dist-packages/huggingface_hub/utils/_auth.py:94: UserWarning: \n",
      "The secret `HF_TOKEN` does not exist in your Colab secrets.\n",
      "To authenticate with the Hugging Face Hub, create a token in your settings tab (https://huggingface.co/settings/tokens), set it as secret in your Google Colab and restart your session.\n",
      "You will be able to reuse this secret in all of your notebooks.\n",
      "Please note that authentication is recommended but still optional to access public models or datasets.\n",
      "  warnings.warn(\n"
     ]
    },
    {
     "data": {
      "application/vnd.jupyter.widget-view+json": {
       "model_id": "373914721f354d3f8c60be65d18f934b",
       "version_major": 2,
       "version_minor": 0
      },
      "text/plain": [
       "tokenizer_config.json:   0%|          | 0.00/48.0 [00:00<?, ?B/s]"
      ]
     },
     "metadata": {},
     "output_type": "display_data"
    },
    {
     "data": {
      "application/vnd.jupyter.widget-view+json": {
       "model_id": "bb72d4a321e649298980c884ff1478c2",
       "version_major": 2,
       "version_minor": 0
      },
      "text/plain": [
       "vocab.txt:   0%|          | 0.00/232k [00:00<?, ?B/s]"
      ]
     },
     "metadata": {},
     "output_type": "display_data"
    },
    {
     "data": {
      "application/vnd.jupyter.widget-view+json": {
       "model_id": "35472b66ffc64725a73d6898ceaedebd",
       "version_major": 2,
       "version_minor": 0
      },
      "text/plain": [
       "tokenizer.json:   0%|          | 0.00/466k [00:00<?, ?B/s]"
      ]
     },
     "metadata": {},
     "output_type": "display_data"
    },
    {
     "data": {
      "application/vnd.jupyter.widget-view+json": {
       "model_id": "1ea3bc99800143689b6d9317567f55cf",
       "version_major": 2,
       "version_minor": 0
      },
      "text/plain": [
       "config.json:   0%|          | 0.00/570 [00:00<?, ?B/s]"
      ]
     },
     "metadata": {},
     "output_type": "display_data"
    }
   ],
   "source": [
    "# 步骤6：数据预处理（修复格式问题）\n",
    "tokenizer = BertTokenizer.from_pretrained('bert-base-uncased')\n",
    "\n",
    "def preprocess(texts, labels):\n",
    "    texts = [str(text) for text in texts]  # 确保文本是字符串\n",
    "    encodings = tokenizer(\n",
    "        texts,\n",
    "        padding=True,\n",
    "        truncation=True,\n",
    "        max_length=512,\n",
    "        return_tensors='pt'\n",
    "    )\n",
    "    # 将标签转换为张量并合并到encodings字典中\n",
    "    encodings['labels'] = torch.tensor(labels)\n",
    "    return encodings\n",
    "\n",
    "# 转换为PyTorch Dataset\n",
    "class IMDbDataset(torch.utils.data.Dataset):\n",
    "    def __init__(self, texts, labels):\n",
    "        self.encodings = preprocess(texts, labels)\n",
    "\n",
    "    def __getitem__(self, idx):\n",
    "        # 返回单个样本的字典格式\n",
    "        return {\n",
    "            'input_ids': self.encodings['input_ids'][idx],\n",
    "            'attention_mask': self.encodings['attention_mask'][idx],\n",
    "            'labels': self.encodings['labels'][idx]\n",
    "        }\n",
    "\n",
    "    def __len__(self):\n",
    "        return len(self.encodings['labels'])\n",
    "\n",
    "# 重新初始化数据集\n",
    "train_dataset = IMDbDataset(train_texts, train_labels)\n",
    "val_dataset = IMDbDataset(val_texts, val_labels)\n",
    "test_dataset = IMDbDataset(test_texts, test_labels)"
   ]
  },
  {
   "cell_type": "code",
   "execution_count": 5,
   "metadata": {
    "colab": {
     "base_uri": "https://localhost:8080/",
     "height": 178,
     "referenced_widgets": [
      "b4f8407805af40ce9eff94398fabd5ec",
      "cd9b2f407b0f4f21833f141592d13bc0",
      "b2db88ba71fd46ec8915ea642493d4e4",
      "8835d2ec038f42ff96fcd85d4ef12386",
      "08ad4fdffdab40af907036a7751be1e9",
      "cec83d68e5ef4045812fa5a1f034637f",
      "979e37f54d724bc0b92d915f185f94a3",
      "08944ff81b09490eb98d964fb27c7716",
      "8108dccd59fb4b4eae81b6021db9072f",
      "e04ebf9f249c48e38782a51480d09ded",
      "dba70a877e52471ebded31e2f7a72873"
     ]
    },
    "id": "kbqCQ2db6Yfj",
    "outputId": "e2483c49-8f07-4c55-f79d-09ada4fa8ec2"
   },
   "outputs": [
    {
     "name": "stdout",
     "output_type": "stream",
     "text": [
      "Inicializando un nuevo modelo...\n"
     ]
    },
    {
     "name": "stderr",
     "output_type": "stream",
     "text": [
      "Xet Storage is enabled for this repo, but the 'hf_xet' package is not installed. Falling back to regular HTTP download. For better performance, install the package with: `pip install huggingface_hub[hf_xet]` or `pip install hf_xet`\n",
      "WARNING:huggingface_hub.file_download:Xet Storage is enabled for this repo, but the 'hf_xet' package is not installed. Falling back to regular HTTP download. For better performance, install the package with: `pip install huggingface_hub[hf_xet]` or `pip install hf_xet`\n"
     ]
    },
    {
     "data": {
      "application/vnd.jupyter.widget-view+json": {
       "model_id": "b4f8407805af40ce9eff94398fabd5ec",
       "version_major": 2,
       "version_minor": 0
      },
      "text/plain": [
       "model.safetensors:   0%|          | 0.00/440M [00:00<?, ?B/s]"
      ]
     },
     "metadata": {},
     "output_type": "display_data"
    },
    {
     "name": "stderr",
     "output_type": "stream",
     "text": [
      "Some weights of BertForSequenceClassification were not initialized from the model checkpoint at bert-base-uncased and are newly initialized: ['classifier.bias', 'classifier.weight']\n",
      "You should probably TRAIN this model on a down-stream task to be able to use it for predictions and inference.\n"
     ]
    },
    {
     "name": "stdout",
     "output_type": "stream",
     "text": [
      "Modelo cargado en: cuda\n"
     ]
    }
   ],
   "source": [
    "# 步骤7：模型配置\n",
    "# model_save_path = \"/content/drive/MyDrive/Colab Notebooks/model/imdb\"\n",
    "# os.makedirs(model_save_path, exist_ok=True)\n",
    "\n",
    "\n",
    "# 自动检测设备（优先GPU，否则CPU）\n",
    "device = torch.device(\"cuda\" if torch.cuda.is_available() else \"cpu\")\n",
    "\n",
    "# 初始化新模型（每次运行都会从头载入预训练权重）\n",
    "print(\"Inicializando un nuevo modelo...\")\n",
    "model = BertForSequenceClassification.from_pretrained(\n",
    "    'bert-base-uncased',\n",
    "    num_labels=2,\n",
    "    attention_probs_dropout_prob=0.1  # 你可以调整这个 Dropout 值\n",
    ").to(device)\n",
    "\n",
    "# 显式验证设备\n",
    "print(f\"Modelo cargado en: {device}\")"
   ]
  },
  {
   "cell_type": "code",
   "execution_count": 6,
   "metadata": {
    "id": "GJt9iyjF6cC0"
   },
   "outputs": [],
   "source": [
    "# 步骤8：训练配置\n",
    "training_args = TrainingArguments(\n",
    "    output_dir=\"/content/drive/MyDrive/Colab Notebooks/data\",\n",
    "    eval_strategy=\"epoch\",\n",
    "    learning_rate=5e-5,\n",
    "    per_device_train_batch_size=32,\n",
    "    per_device_eval_batch_size=64,\n",
    "    num_train_epochs=5,\n",
    "    weight_decay=0.01,\n",
    "    save_strategy=\"epoch\",\n",
    "    load_best_model_at_end=True,\n",
    "    metric_for_best_model=\"f1\",\n",
    "    save_total_limit=3,\n",
    "    logging_dir=os.path.join(DRIVE_DATA_PATH, 'logs'),\n",
    "    logging_steps=100\n",
    ")\n",
    "\n",
    "# 步骤9：定义评估指标（新增完整指标）\n",
    "def compute_metrics(pred):\n",
    "    labels = pred.label_ids\n",
    "    preds = pred.predictions.argmax(-1)\n",
    "    precision = precision_score(labels, preds)\n",
    "    recall = recall_score(labels, preds)\n",
    "    f1 = f1_score(labels, preds)\n",
    "    accuracy = accuracy_score(labels, preds)\n",
    "    return {'accuracy': accuracy, 'precision': precision, 'recall': recall, 'f1': f1}"
   ]
  },
  {
   "cell_type": "code",
   "execution_count": 7,
   "metadata": {
    "id": "PRxKrY7p5yQk"
   },
   "outputs": [],
   "source": [
    "# 步骤10：初始化Trainer\n",
    "trainer = Trainer(\n",
    "    model=model,\n",
    "    args=training_args,\n",
    "    train_dataset=train_dataset,\n",
    "    eval_dataset=val_dataset,\n",
    "    compute_metrics=compute_metrics\n",
    ")"
   ]
  },
  {
   "cell_type": "code",
   "execution_count": 8,
   "metadata": {
    "colab": {
     "base_uri": "https://localhost:8080/",
     "height": 307
    },
    "id": "O7offBLN51OK",
    "outputId": "d261cc58-a958-4192-ad46-afd16afe5433"
   },
   "outputs": [
    {
     "name": "stderr",
     "output_type": "stream",
     "text": [
      "\u001b[34m\u001b[1mwandb\u001b[0m: \u001b[33mWARNING\u001b[0m The `run_name` is currently set to the same value as `TrainingArguments.output_dir`. If this was not intended, please specify a different run name by setting the `TrainingArguments.run_name` parameter.\n"
     ]
    },
    {
     "data": {
      "text/html": [
       "\n",
       "    <div>\n",
       "      \n",
       "      <progress value='3125' max='3125' style='width:300px; height:20px; vertical-align: middle;'></progress>\n",
       "      [3125/3125 2:41:02, Epoch 5/5]\n",
       "    </div>\n",
       "    <table border=\"1\" class=\"dataframe\">\n",
       "  <thead>\n",
       " <tr style=\"text-align: left;\">\n",
       "      <th>Epoch</th>\n",
       "      <th>Training Loss</th>\n",
       "      <th>Validation Loss</th>\n",
       "      <th>Accuracy</th>\n",
       "      <th>Precision</th>\n",
       "      <th>Recall</th>\n",
       "      <th>F1</th>\n",
       "    </tr>\n",
       "  </thead>\n",
       "  <tbody>\n",
       "    <tr>\n",
       "      <td>1</td>\n",
       "      <td>0.195200</td>\n",
       "      <td>0.201110</td>\n",
       "      <td>0.925800</td>\n",
       "      <td>0.910845</td>\n",
       "      <td>0.944000</td>\n",
       "      <td>0.927126</td>\n",
       "    </tr>\n",
       "    <tr>\n",
       "      <td>2</td>\n",
       "      <td>0.112000</td>\n",
       "      <td>0.215988</td>\n",
       "      <td>0.927600</td>\n",
       "      <td>0.907393</td>\n",
       "      <td>0.952400</td>\n",
       "      <td>0.929352</td>\n",
       "    </tr>\n",
       "    <tr>\n",
       "      <td>3</td>\n",
       "      <td>0.047900</td>\n",
       "      <td>0.350355</td>\n",
       "      <td>0.928800</td>\n",
       "      <td>0.914861</td>\n",
       "      <td>0.945600</td>\n",
       "      <td>0.929976</td>\n",
       "    </tr>\n",
       "    <tr>\n",
       "      <td>4</td>\n",
       "      <td>0.032800</td>\n",
       "      <td>0.333244</td>\n",
       "      <td>0.934000</td>\n",
       "      <td>0.925157</td>\n",
       "      <td>0.944400</td>\n",
       "      <td>0.934679</td>\n",
       "    </tr>\n",
       "    <tr>\n",
       "      <td>5</td>\n",
       "      <td>0.010400</td>\n",
       "      <td>0.365562</td>\n",
       "      <td>0.934600</td>\n",
       "      <td>0.932352</td>\n",
       "      <td>0.937200</td>\n",
       "      <td>0.934770</td>\n",
       "    </tr>\n",
       "  </tbody>\n",
       "</table><p>"
      ],
      "text/plain": [
       "<IPython.core.display.HTML object>"
      ]
     },
     "metadata": {},
     "output_type": "display_data"
    },
    {
     "data": {
      "text/plain": [
       "TrainOutput(global_step=3125, training_loss=0.09559515528619289, metrics={'train_runtime': 9666.8532, 'train_samples_per_second': 10.345, 'train_steps_per_second': 0.323, 'total_flos': 2.6311105536e+16, 'train_loss': 0.09559515528619289, 'epoch': 5.0})"
      ]
     },
     "execution_count": 8,
     "metadata": {},
     "output_type": "execute_result"
    }
   ],
   "source": [
    "# 执行训练\n",
    "trainer.train()"
   ]
  },
  {
   "cell_type": "code",
   "execution_count": null,
   "metadata": {
    "id": "HBQKgtFM55YB"
   },
   "outputs": [],
   "source": [
    "# # 可选保存模型\n",
    "# SAVE_MODEL = False  # 改为 True 时保存\n",
    "# if SAVE_MODEL:\n",
    "#     trainer.save_model(model_save_path)\n",
    "#     tokenizer.save_pretrained(model_save_path)"
   ]
  },
  {
   "cell_type": "code",
   "execution_count": 9,
   "metadata": {
    "colab": {
     "base_uri": "https://localhost:8080/",
     "height": 71
    },
    "id": "uJlRFOph57_V",
    "outputId": "c9abb3b8-baf8-48f6-eeea-0e32f664de9b"
   },
   "outputs": [
    {
     "data": {
      "text/html": [],
      "text/plain": [
       "<IPython.core.display.HTML object>"
      ]
     },
     "metadata": {},
     "output_type": "display_data"
    },
    {
     "name": "stdout",
     "output_type": "stream",
     "text": [
      "\n",
      "Modelo BERT en IMDb - Métricas Completas:\n",
      "Precisión: 0.9340 | Recall: 0.9449 | Accuracy: 0.9391 | F1-Score: 0.9394\n"
     ]
    }
   ],
   "source": [
    "# 步骤12：模型评估（新增完整指标）\n",
    "test_preds = trainer.predict(test_dataset)\n",
    "bert_preds = np.argmax(test_preds.predictions, axis=1)\n",
    "\n",
    "precision = precision_score(test_labels, bert_preds)\n",
    "recall = recall_score(test_labels, bert_preds)\n",
    "accuracy = accuracy_score(test_labels, bert_preds)\n",
    "f1 = f1_score(test_labels, bert_preds)\n",
    "\n",
    "print(\"\\nModelo BERT en IMDb - Métricas Completas:\")\n",
    "print(f\"Precisión: {precision:.4f} | Recall: {recall:.4f} | Accuracy: {accuracy:.4f} | F1-Score: {f1:.4f}\")"
   ]
  }
 ],
 "metadata": {
  "accelerator": "GPU",
  "colab": {
   "gpuType": "T4",
   "provenance": []
  },
  "kernelspec": {
   "display_name": "Python 3",
   "name": "python3"
  },
  "language_info": {
   "name": "python"
  }
 },
 "nbformat": 4,
 "nbformat_minor": 0
}
