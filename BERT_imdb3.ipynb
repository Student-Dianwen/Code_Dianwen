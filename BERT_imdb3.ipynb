{
 "cells": [
  {
   "cell_type": "code",
   "execution_count": 1,
   "metadata": {
    "colab": {
     "base_uri": "https://localhost:8080/"
    },
    "id": "ZhQsox3S5zZu",
    "outputId": "fb79bea9-308d-450f-be66-a47c7ee7ccf1"
   },
   "outputs": [
    {
     "name": "stdout",
     "output_type": "stream",
     "text": [
      "Mounted at /content/drive\n"
     ]
    }
   ],
   "source": [
    "from google.colab import drive\n",
    "drive.mount('/content/drive')"
   ]
  },
  {
   "cell_type": "code",
   "execution_count": null,
   "metadata": {
    "colab": {
     "base_uri": "https://localhost:8080/"
    },
    "collapsed": true,
    "id": "ltHSGMNv59b0",
    "outputId": "e2fce8ac-9f14-49a5-f2e8-5bc61c06d290"
   },
   "outputs": [
    {
     "name": "stdout",
     "output_type": "stream",
     "text": [
      "Requirement already satisfied: transformers in /usr/local/lib/python3.11/dist-packages (4.50.2)\n",
      "Requirement already satisfied: datasets in /usr/local/lib/python3.11/dist-packages (3.5.0)\n",
      "Requirement already satisfied: scikit-learn in /usr/local/lib/python3.11/dist-packages (1.6.1)\n",
      "Requirement already satisfied: torch in /usr/local/lib/python3.11/dist-packages (2.6.0+cu124)\n",
      "Requirement already satisfied: filelock in /usr/local/lib/python3.11/dist-packages (from transformers) (3.18.0)\n",
      "Requirement already satisfied: huggingface-hub<1.0,>=0.26.0 in /usr/local/lib/python3.11/dist-packages (from transformers) (0.29.3)\n",
      "Requirement already satisfied: numpy>=1.17 in /usr/local/lib/python3.11/dist-packages (from transformers) (2.0.2)\n",
      "Requirement already satisfied: packaging>=20.0 in /usr/local/lib/python3.11/dist-packages (from transformers) (24.2)\n",
      "Requirement already satisfied: pyyaml>=5.1 in /usr/local/lib/python3.11/dist-packages (from transformers) (6.0.2)\n",
      "Requirement already satisfied: regex!=2019.12.17 in /usr/local/lib/python3.11/dist-packages (from transformers) (2024.11.6)\n",
      "Requirement already satisfied: requests in /usr/local/lib/python3.11/dist-packages (from transformers) (2.32.3)\n",
      "Requirement already satisfied: tokenizers<0.22,>=0.21 in /usr/local/lib/python3.11/dist-packages (from transformers) (0.21.1)\n",
      "Requirement already satisfied: safetensors>=0.4.3 in /usr/local/lib/python3.11/dist-packages (from transformers) (0.5.3)\n",
      "Requirement already satisfied: tqdm>=4.27 in /usr/local/lib/python3.11/dist-packages (from transformers) (4.67.1)\n",
      "Requirement already satisfied: pyarrow>=15.0.0 in /usr/local/lib/python3.11/dist-packages (from datasets) (18.1.0)\n",
      "Requirement already satisfied: dill<0.3.9,>=0.3.0 in /usr/local/lib/python3.11/dist-packages (from datasets) (0.3.8)\n",
      "Requirement already satisfied: pandas in /usr/local/lib/python3.11/dist-packages (from datasets) (2.2.2)\n",
      "Requirement already satisfied: xxhash in /usr/local/lib/python3.11/dist-packages (from datasets) (3.5.0)\n",
      "Requirement already satisfied: multiprocess<0.70.17 in /usr/local/lib/python3.11/dist-packages (from datasets) (0.70.16)\n",
      "Collecting fsspec<=2024.12.0,>=2023.1.0 (from fsspec[http]<=2024.12.0,>=2023.1.0->datasets)\n",
      "  Using cached fsspec-2024.12.0-py3-none-any.whl.metadata (11 kB)\n",
      "Requirement already satisfied: aiohttp in /usr/local/lib/python3.11/dist-packages (from datasets) (3.11.14)\n",
      "Requirement already satisfied: scipy>=1.6.0 in /usr/local/lib/python3.11/dist-packages (from scikit-learn) (1.14.1)\n",
      "Requirement already satisfied: joblib>=1.2.0 in /usr/local/lib/python3.11/dist-packages (from scikit-learn) (1.4.2)\n",
      "Requirement already satisfied: threadpoolctl>=3.1.0 in /usr/local/lib/python3.11/dist-packages (from scikit-learn) (3.6.0)\n",
      "Requirement already satisfied: typing-extensions>=4.10.0 in /usr/local/lib/python3.11/dist-packages (from torch) (4.13.0)\n",
      "Requirement already satisfied: networkx in /usr/local/lib/python3.11/dist-packages (from torch) (3.4.2)\n",
      "Requirement already satisfied: jinja2 in /usr/local/lib/python3.11/dist-packages (from torch) (3.1.6)\n",
      "Requirement already satisfied: nvidia-cuda-nvrtc-cu12==12.4.127 in /usr/local/lib/python3.11/dist-packages (from torch) (12.4.127)\n",
      "Requirement already satisfied: nvidia-cuda-runtime-cu12==12.4.127 in /usr/local/lib/python3.11/dist-packages (from torch) (12.4.127)\n",
      "Requirement already satisfied: nvidia-cuda-cupti-cu12==12.4.127 in /usr/local/lib/python3.11/dist-packages (from torch) (12.4.127)\n",
      "Requirement already satisfied: nvidia-cudnn-cu12==9.1.0.70 in /usr/local/lib/python3.11/dist-packages (from torch) (9.1.0.70)\n",
      "Requirement already satisfied: nvidia-cublas-cu12==12.4.5.8 in /usr/local/lib/python3.11/dist-packages (from torch) (12.4.5.8)\n",
      "Requirement already satisfied: nvidia-cufft-cu12==11.2.1.3 in /usr/local/lib/python3.11/dist-packages (from torch) (11.2.1.3)\n",
      "Requirement already satisfied: nvidia-curand-cu12==10.3.5.147 in /usr/local/lib/python3.11/dist-packages (from torch) (10.3.5.147)\n",
      "Requirement already satisfied: nvidia-cusolver-cu12==11.6.1.9 in /usr/local/lib/python3.11/dist-packages (from torch) (11.6.1.9)\n",
      "Requirement already satisfied: nvidia-cusparse-cu12==12.3.1.170 in /usr/local/lib/python3.11/dist-packages (from torch) (12.3.1.170)\n",
      "Requirement already satisfied: nvidia-cusparselt-cu12==0.6.2 in /usr/local/lib/python3.11/dist-packages (from torch) (0.6.2)\n",
      "Requirement already satisfied: nvidia-nccl-cu12==2.21.5 in /usr/local/lib/python3.11/dist-packages (from torch) (2.21.5)\n",
      "Requirement already satisfied: nvidia-nvtx-cu12==12.4.127 in /usr/local/lib/python3.11/dist-packages (from torch) (12.4.127)\n",
      "Requirement already satisfied: nvidia-nvjitlink-cu12==12.4.127 in /usr/local/lib/python3.11/dist-packages (from torch) (12.4.127)\n",
      "Requirement already satisfied: triton==3.2.0 in /usr/local/lib/python3.11/dist-packages (from torch) (3.2.0)\n",
      "Requirement already satisfied: sympy==1.13.1 in /usr/local/lib/python3.11/dist-packages (from torch) (1.13.1)\n",
      "Requirement already satisfied: mpmath<1.4,>=1.1.0 in /usr/local/lib/python3.11/dist-packages (from sympy==1.13.1->torch) (1.3.0)\n",
      "Requirement already satisfied: aiohappyeyeballs>=2.3.0 in /usr/local/lib/python3.11/dist-packages (from aiohttp->datasets) (2.6.1)\n",
      "Requirement already satisfied: aiosignal>=1.1.2 in /usr/local/lib/python3.11/dist-packages (from aiohttp->datasets) (1.3.2)\n",
      "Requirement already satisfied: attrs>=17.3.0 in /usr/local/lib/python3.11/dist-packages (from aiohttp->datasets) (25.3.0)\n",
      "Requirement already satisfied: frozenlist>=1.1.1 in /usr/local/lib/python3.11/dist-packages (from aiohttp->datasets) (1.5.0)\n",
      "Requirement already satisfied: multidict<7.0,>=4.5 in /usr/local/lib/python3.11/dist-packages (from aiohttp->datasets) (6.2.0)\n",
      "Requirement already satisfied: propcache>=0.2.0 in /usr/local/lib/python3.11/dist-packages (from aiohttp->datasets) (0.3.1)\n",
      "Requirement already satisfied: yarl<2.0,>=1.17.0 in /usr/local/lib/python3.11/dist-packages (from aiohttp->datasets) (1.18.3)\n",
      "Requirement already satisfied: charset-normalizer<4,>=2 in /usr/local/lib/python3.11/dist-packages (from requests->transformers) (3.4.1)\n",
      "Requirement already satisfied: idna<4,>=2.5 in /usr/local/lib/python3.11/dist-packages (from requests->transformers) (3.10)\n",
      "Requirement already satisfied: urllib3<3,>=1.21.1 in /usr/local/lib/python3.11/dist-packages (from requests->transformers) (2.3.0)\n",
      "Requirement already satisfied: certifi>=2017.4.17 in /usr/local/lib/python3.11/dist-packages (from requests->transformers) (2025.1.31)\n",
      "Requirement already satisfied: MarkupSafe>=2.0 in /usr/local/lib/python3.11/dist-packages (from jinja2->torch) (3.0.2)\n",
      "Requirement already satisfied: python-dateutil>=2.8.2 in /usr/local/lib/python3.11/dist-packages (from pandas->datasets) (2.8.2)\n",
      "Requirement already satisfied: pytz>=2020.1 in /usr/local/lib/python3.11/dist-packages (from pandas->datasets) (2025.2)\n",
      "Requirement already satisfied: tzdata>=2022.7 in /usr/local/lib/python3.11/dist-packages (from pandas->datasets) (2025.2)\n",
      "Requirement already satisfied: six>=1.5 in /usr/local/lib/python3.11/dist-packages (from python-dateutil>=2.8.2->pandas->datasets) (1.17.0)\n",
      "Using cached fsspec-2024.12.0-py3-none-any.whl (183 kB)\n",
      "Installing collected packages: fsspec\n",
      "\u001b[31mERROR: pip's dependency resolver does not currently take into account all the packages that are installed. This behaviour is the source of the following dependency conflicts.\n",
      "gcsfs 2025.3.0 requires fsspec==2025.3.0, but you have fsspec 2024.12.0 which is incompatible.\u001b[0m\u001b[31m\n",
      "\u001b[0mSuccessfully installed fsspec-2024.12.0\n"
     ]
    }
   ],
   "source": [
    "!pip install transformers datasets scikit-learn torch"
   ]
  },
  {
   "cell_type": "code",
   "execution_count": 2,
   "metadata": {
    "colab": {
     "base_uri": "https://localhost:8080/"
    },
    "id": "quTfI5DS5xXw",
    "outputId": "b2730146-c57c-46e4-b0ef-2580d1bebad4"
   },
   "outputs": [
    {
     "name": "stdout",
     "output_type": "stream",
     "text": [
      "Conjunto de entrenamiento: 20000 | Conjunto de validación: 5000 | Conjunto de prueba: 25000\n"
     ]
    }
   ],
   "source": [
    "# 步骤3：导入模块\n",
    "import os\n",
    "import numpy as np\n",
    "import torch\n",
    "from sklearn.metrics import accuracy_score, precision_score, recall_score, f1_score\n",
    "from transformers import BertTokenizer, BertForSequenceClassification, Trainer, TrainingArguments\n",
    "# os.environ['WANDB_API_KEY'] = '255fab36462f5587d825c69b9d5b53a852a2c4d3'  # 替换为你的实际 API 密钥\n",
    "os.environ['WANDB_MODE'] = 'disabled'\n",
    "\n",
    "# 步骤4：配置路径\n",
    "DRIVE_DATA_PATH = '/content/drive/MyDrive/Colab Notebooks/data'\n",
    "file_paths = {\n",
    "    'train': os.path.join(DRIVE_DATA_PATH, 'imdb_train.npz'),\n",
    "    'test': os.path.join(DRIVE_DATA_PATH, 'imdb_test.npz'),\n",
    "    'val': os.path.join(DRIVE_DATA_PATH, 'imdb_val.npz')\n",
    "}\n",
    "\n",
    "# 步骤5：加载数据\n",
    "def load_npz(file_path):\n",
    "    data = np.load(file_path)\n",
    "    return data['x'], data['y']\n",
    "\n",
    "# 加载数据集\n",
    "train_texts, train_labels = load_npz(file_paths['train'])\n",
    "val_texts, val_labels = load_npz(file_paths['val'])\n",
    "test_texts, test_labels = load_npz(file_paths['test'])\n",
    "\n",
    "# 新增：打印数据集大小\n",
    "print(f\"Conjunto de entrenamiento: {len(train_texts)} | Conjunto de validación: {len(val_texts)} | Conjunto de prueba: {len(test_texts)}\")"
   ]
  },
  {
   "cell_type": "code",
   "execution_count": 3,
   "metadata": {
    "colab": {
     "base_uri": "https://localhost:8080/",
     "height": 269,
     "referenced_widgets": [
      "bae7be74d8eb4c85985952b45eb7c1a7",
      "73e891d0e72540009f59d751ff1ff80d",
      "7ce3c3ca68fd404c8470f426bd18d46f",
      "64d41cbb583d44aab9a75bb1ddf88868",
      "b4e5af95b611473292be23254b3f2be1",
      "390f2563a1ef4b799bde8a356f065ef7",
      "0543c019b4384aeabff85a10810d4bae",
      "f0b9f26b34c44cd7a4ed2939c3d91b11",
      "231fd3ede55c40d690be166a40ad20db",
      "3c987e6bc0a64e389a1c222f9cff1289",
      "41af635d1959414e93234bf6bce367d7",
      "6794debad70448f99b1858321fcd4ff6",
      "26d4653afeaf4d78bd36578e472fa383",
      "9ec421f54acc4bd78a55b5a0029310a8",
      "c6c918372f07466aaba745eebeb0a1f8",
      "1c9bcbf6427b467da5a08cf05fd2fe60",
      "75f3782e7d2e4df8930dc43554fc3bb7",
      "7a7b960638a94110b7428f4e5b2e984c",
      "4c4984393a6e4d70b1ad862622d421ca",
      "b2813312e43b4a1fa84201072251926d",
      "dfc059b2427d47e6bbb928a6ea646ca9",
      "85f24ab401d24766b795f81d022bfa36",
      "9b9ec93b62004326badb270aced06c85",
      "07bccc5074da44898ce14f263e21b987",
      "a66d0375771447f79390bd7bb95a52f4",
      "9acea885102d49198c8455832fc4ed27",
      "54f62ed65c774b8399022023441bfb6e",
      "39eb294295264d51aa7e9b344e0fe7e9",
      "0c680e9fde104c74a98632609849dce5",
      "770981148f614594a7161bd700e53067",
      "9e04edaf41484fe894c8c02199af5ca5",
      "91bf9c81e2d24ea5a0748cfc9d1cb6de",
      "a85adbe46a134c948877b6f64216efec",
      "e55b55e1581445e0b3714e11974a749f",
      "db844b93da7b44c59161e202f052af8e",
      "14b91a190f6641c9ad786c07a0f6a9ab",
      "8e229aa1134449ab99f5ff6599b5dac5",
      "ca341211b29f47cc8429483aed607caf",
      "3e1d4d4028d44408b919e9c6fcf98516",
      "bd236ec78fa145929fae8d4705182fb7",
      "d6048efad86f41ff8741ee11ff696957",
      "688076aab7c04a708e87f65575457fc0",
      "55c12b78316f48e095ae09354ab4f6fa",
      "98c76d52f45f4203889249d41a2e40cd"
     ]
    },
    "collapsed": true,
    "id": "T6T9P2jQ_v8q",
    "outputId": "a3041195-64cb-4589-ddb8-3062b1bfa48f"
   },
   "outputs": [
    {
     "name": "stderr",
     "output_type": "stream",
     "text": [
      "/usr/local/lib/python3.11/dist-packages/huggingface_hub/utils/_auth.py:94: UserWarning: \n",
      "The secret `HF_TOKEN` does not exist in your Colab secrets.\n",
      "To authenticate with the Hugging Face Hub, create a token in your settings tab (https://huggingface.co/settings/tokens), set it as secret in your Google Colab and restart your session.\n",
      "You will be able to reuse this secret in all of your notebooks.\n",
      "Please note that authentication is recommended but still optional to access public models or datasets.\n",
      "  warnings.warn(\n"
     ]
    },
    {
     "data": {
      "application/vnd.jupyter.widget-view+json": {
       "model_id": "bae7be74d8eb4c85985952b45eb7c1a7",
       "version_major": 2,
       "version_minor": 0
      },
      "text/plain": [
       "tokenizer_config.json:   0%|          | 0.00/48.0 [00:00<?, ?B/s]"
      ]
     },
     "metadata": {},
     "output_type": "display_data"
    },
    {
     "data": {
      "application/vnd.jupyter.widget-view+json": {
       "model_id": "6794debad70448f99b1858321fcd4ff6",
       "version_major": 2,
       "version_minor": 0
      },
      "text/plain": [
       "vocab.txt:   0%|          | 0.00/232k [00:00<?, ?B/s]"
      ]
     },
     "metadata": {},
     "output_type": "display_data"
    },
    {
     "data": {
      "application/vnd.jupyter.widget-view+json": {
       "model_id": "9b9ec93b62004326badb270aced06c85",
       "version_major": 2,
       "version_minor": 0
      },
      "text/plain": [
       "tokenizer.json:   0%|          | 0.00/466k [00:00<?, ?B/s]"
      ]
     },
     "metadata": {},
     "output_type": "display_data"
    },
    {
     "data": {
      "application/vnd.jupyter.widget-view+json": {
       "model_id": "e55b55e1581445e0b3714e11974a749f",
       "version_major": 2,
       "version_minor": 0
      },
      "text/plain": [
       "config.json:   0%|          | 0.00/570 [00:00<?, ?B/s]"
      ]
     },
     "metadata": {},
     "output_type": "display_data"
    }
   ],
   "source": [
    "# 步骤6：数据预处理（修复格式问题）\n",
    "tokenizer = BertTokenizer.from_pretrained('bert-base-uncased')\n",
    "\n",
    "def preprocess(texts, labels):\n",
    "    texts = [str(text) for text in texts]  # 确保文本是字符串\n",
    "    encodings = tokenizer(\n",
    "        texts,\n",
    "        padding=True,\n",
    "        truncation=True,\n",
    "        max_length=512,\n",
    "        return_tensors='pt'\n",
    "    )\n",
    "    # 将标签转换为张量并合并到encodings字典中\n",
    "    encodings['labels'] = torch.tensor(labels)\n",
    "    return encodings\n",
    "\n",
    "# 转换为PyTorch Dataset\n",
    "class IMDbDataset(torch.utils.data.Dataset):\n",
    "    def __init__(self, texts, labels):\n",
    "        self.encodings = preprocess(texts, labels)\n",
    "\n",
    "    def __getitem__(self, idx):\n",
    "        # 返回单个样本的字典格式\n",
    "        return {\n",
    "            'input_ids': self.encodings['input_ids'][idx],\n",
    "            'attention_mask': self.encodings['attention_mask'][idx],\n",
    "            'labels': self.encodings['labels'][idx]\n",
    "        }\n",
    "\n",
    "    def __len__(self):\n",
    "        return len(self.encodings['labels'])\n",
    "\n",
    "# 重新初始化数据集\n",
    "train_dataset = IMDbDataset(train_texts, train_labels)\n",
    "val_dataset = IMDbDataset(val_texts, val_labels)\n",
    "test_dataset = IMDbDataset(test_texts, test_labels)"
   ]
  },
  {
   "cell_type": "code",
   "execution_count": 4,
   "metadata": {
    "colab": {
     "base_uri": "https://localhost:8080/",
     "height": 138,
     "referenced_widgets": [
      "a852100fd4a345618ef87b10cd3a3bea",
      "7d43ebd9fbf24ba08841fe25c3d060ed",
      "5d974e43db074eeb91799e86a89637b8",
      "5b72ac128d5d45cab9dfd2c6bb18ae68",
      "691ab4e5590d4eaaa62cc2216d608254",
      "bd13821166d04dbbac77b1b5417fe302",
      "f3d5256764b94ba08b371c17b4cb7984",
      "a469718e1ae54196936aba29ddd6cc30",
      "bc647338f6e442e0a1edd07c2bddb6f8",
      "7aab990de9894b73b52edee97e773ced",
      "572c5abb8795460a956b514bcf26c65f"
     ]
    },
    "id": "kbqCQ2db6Yfj",
    "outputId": "d4fac0c6-217d-40f4-848e-8222d04b1723"
   },
   "outputs": [
    {
     "name": "stdout",
     "output_type": "stream",
     "text": [
      "Inicializando un nuevo modelo...\n"
     ]
    },
    {
     "data": {
      "application/vnd.jupyter.widget-view+json": {
       "model_id": "a852100fd4a345618ef87b10cd3a3bea",
       "version_major": 2,
       "version_minor": 0
      },
      "text/plain": [
       "model.safetensors:   0%|          | 0.00/440M [00:00<?, ?B/s]"
      ]
     },
     "metadata": {},
     "output_type": "display_data"
    },
    {
     "name": "stderr",
     "output_type": "stream",
     "text": [
      "Some weights of BertForSequenceClassification were not initialized from the model checkpoint at bert-base-uncased and are newly initialized: ['classifier.bias', 'classifier.weight']\n",
      "You should probably TRAIN this model on a down-stream task to be able to use it for predictions and inference.\n"
     ]
    },
    {
     "name": "stdout",
     "output_type": "stream",
     "text": [
      "Modelo cargado en: cuda\n"
     ]
    }
   ],
   "source": [
    "# 步骤7：模型配置\n",
    "# model_save_path = \"/content/drive/MyDrive/Colab Notebooks/model/imdb\"\n",
    "# os.makedirs(model_save_path, exist_ok=True)\n",
    "\n",
    "\n",
    "# 自动检测设备（优先GPU，否则CPU）\n",
    "device = torch.device(\"cuda\" if torch.cuda.is_available() else \"cpu\")\n",
    "\n",
    "# 初始化新模型（每次运行都会从头载入预训练权重）\n",
    "print(\"Inicializando un nuevo modelo...\")\n",
    "model = BertForSequenceClassification.from_pretrained(\n",
    "    'bert-base-uncased',\n",
    "    num_labels=2,\n",
    "    attention_probs_dropout_prob=0.1  # 你可以调整这个 Dropout 值\n",
    ").to(device)\n",
    "\n",
    "# 显式验证设备\n",
    "print(f\"Modelo cargado en: {device}\")"
   ]
  },
  {
   "cell_type": "code",
   "execution_count": null,
   "metadata": {
    "colab": {
     "base_uri": "https://localhost:8080/"
    },
    "id": "GJt9iyjF6cC0",
    "outputId": "64add9f6-388c-4710-e0b8-24688ecdbedf"
   },
   "outputs": [
    {
     "name": "stderr",
     "output_type": "stream",
     "text": [
      "/usr/local/lib/python3.11/dist-packages/transformers/training_args.py:1611: FutureWarning: `evaluation_strategy` is deprecated and will be removed in version 4.46 of 🤗 Transformers. Use `eval_strategy` instead\n",
      "  warnings.warn(\n"
     ]
    }
   ],
   "source": [
    "# 步骤8：训练配置\n",
    "training_args = TrainingArguments(\n",
    "    output_dir=\"/content/drive/MyDrive/Colab Notebooks/data\",\n",
    "    evaluation_strategy=\"epoch\",\n",
    "    learning_rate=5e-5,\n",
    "    per_device_train_batch_size=32,\n",
    "    per_device_eval_batch_size=64,\n",
    "    num_train_epochs=5,\n",
    "    weight_decay=0.01,\n",
    "    save_strategy=\"no\",\n",
    "    load_best_model_at_end=False,\n",
    "    metric_for_best_model=\"f1\",\n",
    "    logging_dir=os.path.join(DRIVE_DATA_PATH, 'logs'),\n",
    "    logging_steps=100\n",
    ")\n",
    "\n",
    "# 步骤9：定义评估指标（新增完整指标）\n",
    "def compute_metrics(pred):\n",
    "    labels = pred.label_ids\n",
    "    preds = pred.predictions.argmax(-1)\n",
    "    precision = precision_score(labels, preds)\n",
    "    recall = recall_score(labels, preds)\n",
    "    f1 = f1_score(labels, preds)\n",
    "    accuracy = accuracy_score(labels, preds)\n",
    "    return {'accuracy': accuracy, 'precision': precision, 'recall': recall, 'f1': f1}"
   ]
  },
  {
   "cell_type": "code",
   "execution_count": null,
   "metadata": {
    "id": "PRxKrY7p5yQk"
   },
   "outputs": [],
   "source": [
    "# 步骤10：初始化Trainer\n",
    "from transformers import EarlyStoppingCallback  # 先导入\n",
    "trainer = Trainer(\n",
    "    model=model,\n",
    "    args=training_args,\n",
    "    train_dataset=train_dataset,\n",
    "    eval_dataset=val_dataset,\n",
    "    compute_metrics=compute_metrics,\n",
    "    callbacks=[EarlyStoppingCallback(early_stopping_patience=2)]  # 新增早停机制\n",
    ")"
   ]
  },
  {
   "cell_type": "code",
   "execution_count": 7,
   "metadata": {
    "colab": {
     "base_uri": "https://localhost:8080/",
     "height": 304
    },
    "id": "O7offBLN51OK",
    "outputId": "2e3c6cd5-7314-4063-d0c2-59990c84d866"
   },
   "outputs": [
    {
     "name": "stderr",
     "output_type": "stream",
     "text": [
      "\u001b[34m\u001b[1mwandb\u001b[0m: \u001b[33mWARNING\u001b[0m The `run_name` is currently set to the same value as `TrainingArguments.output_dir`. If this was not intended, please specify a different run name by setting the `TrainingArguments.run_name` parameter.\n"
     ]
    },
    {
     "data": {
      "text/html": [
       "\n",
       "    <div>\n",
       "      \n",
       "      <progress value='3125' max='3125' style='width:300px; height:20px; vertical-align: middle;'></progress>\n",
       "      [3125/3125 2:39:59, Epoch 5/5]\n",
       "    </div>\n",
       "    <table border=\"1\" class=\"dataframe\">\n",
       "  <thead>\n",
       " <tr style=\"text-align: left;\">\n",
       "      <th>Epoch</th>\n",
       "      <th>Training Loss</th>\n",
       "      <th>Validation Loss</th>\n",
       "      <th>Accuracy</th>\n",
       "      <th>Precision</th>\n",
       "      <th>Recall</th>\n",
       "      <th>F1</th>\n",
       "    </tr>\n",
       "  </thead>\n",
       "  <tbody>\n",
       "    <tr>\n",
       "      <td>1</td>\n",
       "      <td>0.191600</td>\n",
       "      <td>0.205293</td>\n",
       "      <td>0.928000</td>\n",
       "      <td>0.913127</td>\n",
       "      <td>0.946000</td>\n",
       "      <td>0.929273</td>\n",
       "    </tr>\n",
       "    <tr>\n",
       "      <td>2</td>\n",
       "      <td>0.108500</td>\n",
       "      <td>0.245628</td>\n",
       "      <td>0.926400</td>\n",
       "      <td>0.912539</td>\n",
       "      <td>0.943200</td>\n",
       "      <td>0.927616</td>\n",
       "    </tr>\n",
       "    <tr>\n",
       "      <td>3</td>\n",
       "      <td>0.054500</td>\n",
       "      <td>0.301680</td>\n",
       "      <td>0.932400</td>\n",
       "      <td>0.928968</td>\n",
       "      <td>0.936400</td>\n",
       "      <td>0.932669</td>\n",
       "    </tr>\n",
       "    <tr>\n",
       "      <td>4</td>\n",
       "      <td>0.023300</td>\n",
       "      <td>0.341530</td>\n",
       "      <td>0.934400</td>\n",
       "      <td>0.932325</td>\n",
       "      <td>0.936800</td>\n",
       "      <td>0.934557</td>\n",
       "    </tr>\n",
       "    <tr>\n",
       "      <td>5</td>\n",
       "      <td>0.004900</td>\n",
       "      <td>0.379449</td>\n",
       "      <td>0.935600</td>\n",
       "      <td>0.936298</td>\n",
       "      <td>0.934800</td>\n",
       "      <td>0.935548</td>\n",
       "    </tr>\n",
       "  </tbody>\n",
       "</table><p>"
      ],
      "text/plain": [
       "<IPython.core.display.HTML object>"
      ]
     },
     "metadata": {},
     "output_type": "display_data"
    },
    {
     "data": {
      "text/plain": [
       "TrainOutput(global_step=3125, training_loss=0.09125897125720978, metrics={'train_runtime': 9604.2884, 'train_samples_per_second': 10.412, 'train_steps_per_second': 0.325, 'total_flos': 2.6311105536e+16, 'train_loss': 0.09125897125720978, 'epoch': 5.0})"
      ]
     },
     "execution_count": 7,
     "metadata": {},
     "output_type": "execute_result"
    }
   ],
   "source": [
    "# 执行训练\n",
    "trainer.train()"
   ]
  },
  {
   "cell_type": "code",
   "execution_count": null,
   "metadata": {
    "id": "HBQKgtFM55YB"
   },
   "outputs": [],
   "source": [
    "# # 可选保存模型\n",
    "# SAVE_MODEL = False  # 改为 True 时保存\n",
    "# if SAVE_MODEL:\n",
    "#     trainer.save_model(model_save_path)\n",
    "#     tokenizer.save_pretrained(model_save_path)"
   ]
  },
  {
   "cell_type": "code",
   "execution_count": 8,
   "metadata": {
    "colab": {
     "base_uri": "https://localhost:8080/",
     "height": 69
    },
    "id": "uJlRFOph57_V",
    "outputId": "3f7cb24f-6fd8-4797-99aa-498133ee1c50"
   },
   "outputs": [
    {
     "data": {
      "text/html": [],
      "text/plain": [
       "<IPython.core.display.HTML object>"
      ]
     },
     "metadata": {},
     "output_type": "display_data"
    },
    {
     "name": "stdout",
     "output_type": "stream",
     "text": [
      "\n",
      "Modelo BERT en IMDb - Métricas Completas:\n",
      "Precisión: 0.9374 | Recall: 0.9425 | Accuracy: 0.9398 | F1-Score: 0.9399\n"
     ]
    }
   ],
   "source": [
    "# 步骤12：模型评估（新增完整指标）\n",
    "test_preds = trainer.predict(test_dataset)\n",
    "bert_preds = np.argmax(test_preds.predictions, axis=1)\n",
    "\n",
    "precision = precision_score(test_labels, bert_preds)\n",
    "recall = recall_score(test_labels, bert_preds)\n",
    "accuracy = accuracy_score(test_labels, bert_preds)\n",
    "f1 = f1_score(test_labels, bert_preds)\n",
    "\n",
    "print(\"\\nModelo BERT en IMDb - Métricas Completas:\")\n",
    "print(f\"Precisión: {precision:.4f} | Recall: {recall:.4f} | Accuracy: {accuracy:.4f} | F1-Score: {f1:.4f}\")"
   ]
  },
  {
   "cell_type": "code",
   "execution_count": 9,
   "metadata": {
    "id": "LFWjZx3z5_7v"
   },
   "outputs": [],
   "source": [
    "# 步骤13：案例分析（错误和正确案例）\n",
    "def analyze_cases(texts, true_labels, pred_labels, sample_size=5):\n",
    "    errors = []\n",
    "    correct = []\n",
    "    for i in range(len(true_labels)):\n",
    "        if pred_labels[i] != true_labels[i]:\n",
    "            errors.append({\n",
    "                'Texto': texts[i],\n",
    "                'Verdadero': true_labels[i],\n",
    "                'Predicho': pred_labels[i]\n",
    "            })\n",
    "        else:\n",
    "            correct.append({\n",
    "                'Texto': texts[i],\n",
    "                'Verdadero': true_labels[i],\n",
    "                'Predicho': pred_labels[i]\n",
    "            })\n",
    "    return errors[:sample_size], correct[:sample_size]\n",
    "\n",
    "# 获取案例\n",
    "error_cases, correct_cases = analyze_cases(test_texts, test_labels, bert_preds)"
   ]
  },
  {
   "cell_type": "code",
   "execution_count": 10,
   "metadata": {
    "colab": {
     "base_uri": "https://localhost:8080/"
    },
    "id": "XLOGC4On6CF-",
    "outputId": "15d3924c-1940-4be4-e500-29fea9fc20f8"
   },
   "outputs": [
    {
     "name": "stdout",
     "output_type": "stream",
     "text": [
      "\n",
      "Análisis de Errores (5 primeros):\n",
      "\n",
      "Caso 1:\n",
      "Verdadero: 1, Predicho: 0\n",
      "Texto: BEING Warner Brothers' second historical drama featuring Civil War and Battle of the Little Big Horn, General George Armstrong Custer, THEY DIED WITH THEIR BOOTS ON (Warner Brothers, 1941) was the far...\n",
      "\n",
      "Caso 2:\n",
      "Verdadero: 1, Predicho: 0\n",
      "Texto: [CONTAINS SPOILERS!!!]<br /><br /> Garfield and his owner Jon Arbuckle were in a rut. They basically had no life at all. All they did was lay around and count the ceiling tiles. Jon even organized his...\n",
      "\n",
      "Caso 3:\n",
      "Verdadero: 1, Predicho: 0\n",
      "Texto: So, Madonna isn't Meryl Streep. Still, this is one of her first films and a comedy at that. Give her a break! Sure, the movie is mediocre at best and pales in comparison to its earlier counterpart w/ ...\n",
      "\n",
      "Caso 4:\n",
      "Verdadero: 1, Predicho: 0\n",
      "Texto: \"Tale of Two Sisters\" has to be one of the creepiest films I've seen recently. In the end there is no actual supernatural element, despite what one is led to expect throughout the film. The story seem...\n",
      "\n",
      "Caso 5:\n",
      "Verdadero: 1, Predicho: 0\n",
      "Texto: What can I say about this film that won't give you any preconceived notions when you see it? Very little. The plot has to do with the return from hospital of a teenage girl after she broke down. What ...\n",
      "\n",
      "Análisis de Aciertos (5 primeros):\n",
      "\n",
      "Caso 1:\n",
      "Verdadero: 1, Predicho: 1\n",
      "Texto: I went and saw this movie last night after being coaxed to by a few friends of mine. I'll admit that I was reluctant to see it because from what I knew of Ashton Kutcher he was only able to do comedy....\n",
      "\n",
      "Caso 2:\n",
      "Verdadero: 1, Predicho: 1\n",
      "Texto: Actor turned director Bill Paxton follows up his promising debut, the Gothic-horror \"Frailty\", with this family friendly sports drama about the 1913 U.S. Open where a young American caddy rises from h...\n",
      "\n",
      "Caso 3:\n",
      "Verdadero: 1, Predicho: 1\n",
      "Texto: As a recreational golfer with some knowledge of the sport's history, I was pleased with Disney's sensitivity to the issues of class in golf in the early twentieth century. The movie depicted well the ...\n",
      "\n",
      "Caso 4:\n",
      "Verdadero: 1, Predicho: 1\n",
      "Texto: I saw this film in a sneak preview, and it is delightful. The cinematography is unusually creative, the acting is good, and the story is fabulous. If this movie does not do well, it won't be because i...\n",
      "\n",
      "Caso 5:\n",
      "Verdadero: 1, Predicho: 1\n",
      "Texto: Bill Paxton has taken the true story of the 1913 US golf open and made a film that is about much more than an extra-ordinary game of golf. The film also deals directly with the class tensions of the e...\n"
     ]
    }
   ],
   "source": [
    "# 展示错误案例\n",
    "print(\"\\nAnálisis de Errores (5 primeros):\")\n",
    "for idx, case in enumerate(error_cases, 1):\n",
    "    print(f\"\\nCaso {idx}:\")\n",
    "    print(f\"Verdadero: {case['Verdadero']}, Predicho: {case['Predicho']}\")\n",
    "    print(f\"Texto: {case['Texto'][:500]}...\")\n",
    "\n",
    "# 展示正确案例\n",
    "print(\"\\nAnálisis de Aciertos (5 primeros):\")\n",
    "for idx, case in enumerate(correct_cases, 1):\n",
    "    print(f\"\\nCaso {idx}:\")\n",
    "    print(f\"Verdadero: {case['Verdadero']}, Predicho: {case['Predicho']}\")\n",
    "    print(f\"Texto: {case['Texto'][:500]}...\")"
   ]
  }
 ],
 "metadata": {
  "colab": {
   "provenance": []
  },
  "kernelspec": {
   "display_name": "Python 3",
   "name": "python3"
  },
  "language_info": {
   "name": "python"
  }
 },
 "nbformat": 4,
 "nbformat_minor": 0
}
